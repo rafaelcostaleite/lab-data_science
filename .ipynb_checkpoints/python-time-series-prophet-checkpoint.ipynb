{
 "cells": [
  {
   "cell_type": "code",
   "execution_count": 138,
   "metadata": {
    "block_hidden": true
   },
   "outputs": [],
   "source": [
    "#%load_ext rpy2.ipython\n",
    "#%matplotlib inline\n",
    "import logging\n",
    "logging.getLogger('fbprophet').setLevel(logging.ERROR)\n",
    "import warnings\n",
    "warnings.filterwarnings(\"ignore\")\n",
    "import matplotlib.pyplot as plt\n",
    "warnings.filterwarnings(\"ignore\")\n",
    "plt.style.use('fivethirtyeight')"
   ]
  },
  {
   "cell_type": "code",
   "execution_count": 139,
   "metadata": {},
   "outputs": [],
   "source": [
    "import pandas as pd\n",
    "from fbprophet import Prophet"
   ]
  },
  {
   "cell_type": "code",
   "execution_count": 140,
   "metadata": {},
   "outputs": [
    {
     "data": {
      "text/html": [
       "<div>\n",
       "<style scoped>\n",
       "    .dataframe tbody tr th:only-of-type {\n",
       "        vertical-align: middle;\n",
       "    }\n",
       "\n",
       "    .dataframe tbody tr th {\n",
       "        vertical-align: top;\n",
       "    }\n",
       "\n",
       "    .dataframe thead th {\n",
       "        text-align: right;\n",
       "    }\n",
       "</style>\n",
       "<table border=\"1\" class=\"dataframe\">\n",
       "  <thead>\n",
       "    <tr style=\"text-align: right;\">\n",
       "      <th></th>\n",
       "      <th>DT_VENDA</th>\n",
       "      <th>QTD_VENDA</th>\n",
       "    </tr>\n",
       "  </thead>\n",
       "  <tbody>\n",
       "    <tr>\n",
       "      <th>3517</th>\n",
       "      <td>2019-12-19</td>\n",
       "      <td>56</td>\n",
       "    </tr>\n",
       "    <tr>\n",
       "      <th>3518</th>\n",
       "      <td>2019-12-19</td>\n",
       "      <td>3</td>\n",
       "    </tr>\n",
       "    <tr>\n",
       "      <th>3519</th>\n",
       "      <td>2019-12-20</td>\n",
       "      <td>50</td>\n",
       "    </tr>\n",
       "    <tr>\n",
       "      <th>3520</th>\n",
       "      <td>2019-12-20</td>\n",
       "      <td>4</td>\n",
       "    </tr>\n",
       "    <tr>\n",
       "      <th>3521</th>\n",
       "      <td>2019-12-23</td>\n",
       "      <td>1</td>\n",
       "    </tr>\n",
       "  </tbody>\n",
       "</table>\n",
       "</div>"
      ],
      "text/plain": [
       "        DT_VENDA  QTD_VENDA\n",
       "3517  2019-12-19         56\n",
       "3518  2019-12-19          3\n",
       "3519  2019-12-20         50\n",
       "3520  2019-12-20          4\n",
       "3521  2019-12-23          1"
      ]
     },
     "execution_count": 140,
     "metadata": {},
     "output_type": "execute_result"
    }
   ],
   "source": [
    "nome_arquivo = '~/Downloads/projeto-aplicado-dados-time-series-produto.xlsx'\n",
    "#nome_arquivo = '~/Downloads/projeto-aplicado-dados-time-series-produto-concurso.xlsx'\n",
    "\n",
    "df = pd.read_excel(nome_arquivo)\n",
    "\n",
    "df.tail()"
   ]
  },
  {
   "cell_type": "code",
   "execution_count": 141,
   "metadata": {},
   "outputs": [
    {
     "data": {
      "text/html": [
       "<div>\n",
       "<style scoped>\n",
       "    .dataframe tbody tr th:only-of-type {\n",
       "        vertical-align: middle;\n",
       "    }\n",
       "\n",
       "    .dataframe tbody tr th {\n",
       "        vertical-align: top;\n",
       "    }\n",
       "\n",
       "    .dataframe thead th {\n",
       "        text-align: right;\n",
       "    }\n",
       "</style>\n",
       "<table border=\"1\" class=\"dataframe\">\n",
       "  <thead>\n",
       "    <tr style=\"text-align: right;\">\n",
       "      <th></th>\n",
       "      <th>ds</th>\n",
       "      <th>y</th>\n",
       "    </tr>\n",
       "  </thead>\n",
       "  <tbody>\n",
       "    <tr>\n",
       "      <th>55</th>\n",
       "      <td>2019-08-01</td>\n",
       "      <td>464</td>\n",
       "    </tr>\n",
       "    <tr>\n",
       "      <th>56</th>\n",
       "      <td>2019-09-01</td>\n",
       "      <td>423</td>\n",
       "    </tr>\n",
       "    <tr>\n",
       "      <th>57</th>\n",
       "      <td>2019-10-01</td>\n",
       "      <td>123</td>\n",
       "    </tr>\n",
       "    <tr>\n",
       "      <th>58</th>\n",
       "      <td>2019-11-01</td>\n",
       "      <td>160</td>\n",
       "    </tr>\n",
       "    <tr>\n",
       "      <th>59</th>\n",
       "      <td>2019-12-01</td>\n",
       "      <td>187</td>\n",
       "    </tr>\n",
       "  </tbody>\n",
       "</table>\n",
       "</div>"
      ],
      "text/plain": [
       "            ds    y\n",
       "55  2019-08-01  464\n",
       "56  2019-09-01  423\n",
       "57  2019-10-01  123\n",
       "58  2019-11-01  160\n",
       "59  2019-12-01  187"
      ]
     },
     "execution_count": 141,
     "metadata": {},
     "output_type": "execute_result"
    }
   ],
   "source": [
    "#agrupa todas as vendas para o primeiro dia de cada mês\n",
    "df.columns = ['data', 'y']\n",
    "df['ds'] = df['data'].str[:7]+'-01'\n",
    "\n",
    "df = df.groupby(['ds']).sum()\n",
    "\n",
    "df = df.reset_index()\n",
    "\n",
    "df.tail()"
   ]
  },
  {
   "cell_type": "code",
   "execution_count": 142,
   "metadata": {},
   "outputs": [
    {
     "data": {
      "text/html": [
       "<div>\n",
       "<style scoped>\n",
       "    .dataframe tbody tr th:only-of-type {\n",
       "        vertical-align: middle;\n",
       "    }\n",
       "\n",
       "    .dataframe tbody tr th {\n",
       "        vertical-align: top;\n",
       "    }\n",
       "\n",
       "    .dataframe thead th {\n",
       "        text-align: right;\n",
       "    }\n",
       "</style>\n",
       "<table border=\"1\" class=\"dataframe\">\n",
       "  <thead>\n",
       "    <tr style=\"text-align: right;\">\n",
       "      <th></th>\n",
       "      <th>ds</th>\n",
       "      <th>y</th>\n",
       "    </tr>\n",
       "  </thead>\n",
       "  <tbody>\n",
       "    <tr>\n",
       "      <th>55</th>\n",
       "      <td>2019-08-01</td>\n",
       "      <td>464</td>\n",
       "    </tr>\n",
       "    <tr>\n",
       "      <th>56</th>\n",
       "      <td>2019-09-01</td>\n",
       "      <td>423</td>\n",
       "    </tr>\n",
       "    <tr>\n",
       "      <th>57</th>\n",
       "      <td>2019-10-01</td>\n",
       "      <td>123</td>\n",
       "    </tr>\n",
       "    <tr>\n",
       "      <th>58</th>\n",
       "      <td>2019-11-01</td>\n",
       "      <td>160</td>\n",
       "    </tr>\n",
       "    <tr>\n",
       "      <th>59</th>\n",
       "      <td>2019-12-01</td>\n",
       "      <td>187</td>\n",
       "    </tr>\n",
       "  </tbody>\n",
       "</table>\n",
       "</div>"
      ],
      "text/plain": [
       "            ds    y\n",
       "55  2019-08-01  464\n",
       "56  2019-09-01  423\n",
       "57  2019-10-01  123\n",
       "58  2019-11-01  160\n",
       "59  2019-12-01  187"
      ]
     },
     "execution_count": 142,
     "metadata": {},
     "output_type": "execute_result"
    }
   ],
   "source": [
    "#criar outro df para comparação dos valores\n",
    "df_total = df\n",
    "\n",
    "df = df[df.ds < '2019-01-01']\n",
    "\n",
    "df_total.tail()"
   ]
  },
  {
   "cell_type": "code",
   "execution_count": 143,
   "metadata": {
    "output_hidden": true
   },
   "outputs": [
    {
     "data": {
      "text/plain": [
       "<fbprophet.forecaster.Prophet at 0x7fa8c5262a60>"
      ]
     },
     "execution_count": 143,
     "metadata": {},
     "output_type": "execute_result"
    }
   ],
   "source": [
    "m = Prophet()\n",
    "m.fit(df)"
   ]
  },
  {
   "cell_type": "code",
   "execution_count": 144,
   "metadata": {},
   "outputs": [
    {
     "data": {
      "text/html": [
       "<div>\n",
       "<style scoped>\n",
       "    .dataframe tbody tr th:only-of-type {\n",
       "        vertical-align: middle;\n",
       "    }\n",
       "\n",
       "    .dataframe tbody tr th {\n",
       "        vertical-align: top;\n",
       "    }\n",
       "\n",
       "    .dataframe thead th {\n",
       "        text-align: right;\n",
       "    }\n",
       "</style>\n",
       "<table border=\"1\" class=\"dataframe\">\n",
       "  <thead>\n",
       "    <tr style=\"text-align: right;\">\n",
       "      <th></th>\n",
       "      <th>ds</th>\n",
       "    </tr>\n",
       "  </thead>\n",
       "  <tbody>\n",
       "    <tr>\n",
       "      <th>55</th>\n",
       "      <td>2019-08-01</td>\n",
       "    </tr>\n",
       "    <tr>\n",
       "      <th>56</th>\n",
       "      <td>2019-09-01</td>\n",
       "    </tr>\n",
       "    <tr>\n",
       "      <th>57</th>\n",
       "      <td>2019-10-01</td>\n",
       "    </tr>\n",
       "    <tr>\n",
       "      <th>58</th>\n",
       "      <td>2019-11-01</td>\n",
       "    </tr>\n",
       "    <tr>\n",
       "      <th>59</th>\n",
       "      <td>2019-12-01</td>\n",
       "    </tr>\n",
       "  </tbody>\n",
       "</table>\n",
       "</div>"
      ],
      "text/plain": [
       "           ds\n",
       "55 2019-08-01\n",
       "56 2019-09-01\n",
       "57 2019-10-01\n",
       "58 2019-11-01\n",
       "59 2019-12-01"
      ]
     },
     "execution_count": 144,
     "metadata": {},
     "output_type": "execute_result"
    }
   ],
   "source": [
    "#future = m.make_future_dataframe(periods=365)\n",
    "future = m.make_future_dataframe(periods=12, freq='MS')\n",
    "future.tail()"
   ]
  },
  {
   "cell_type": "code",
   "execution_count": 145,
   "metadata": {},
   "outputs": [
    {
     "data": {
      "text/html": [
       "<div>\n",
       "<style scoped>\n",
       "    .dataframe tbody tr th:only-of-type {\n",
       "        vertical-align: middle;\n",
       "    }\n",
       "\n",
       "    .dataframe tbody tr th {\n",
       "        vertical-align: top;\n",
       "    }\n",
       "\n",
       "    .dataframe thead th {\n",
       "        text-align: right;\n",
       "    }\n",
       "</style>\n",
       "<table border=\"1\" class=\"dataframe\">\n",
       "  <thead>\n",
       "    <tr style=\"text-align: right;\">\n",
       "      <th></th>\n",
       "      <th>ds</th>\n",
       "      <th>yhat</th>\n",
       "      <th>yhat_lower</th>\n",
       "      <th>yhat_upper</th>\n",
       "    </tr>\n",
       "  </thead>\n",
       "  <tbody>\n",
       "    <tr>\n",
       "      <th>55</th>\n",
       "      <td>2019-08-01</td>\n",
       "      <td>308.902107</td>\n",
       "      <td>27.814127</td>\n",
       "      <td>606.050504</td>\n",
       "    </tr>\n",
       "    <tr>\n",
       "      <th>56</th>\n",
       "      <td>2019-09-01</td>\n",
       "      <td>853.576507</td>\n",
       "      <td>566.514858</td>\n",
       "      <td>1155.054257</td>\n",
       "    </tr>\n",
       "    <tr>\n",
       "      <th>57</th>\n",
       "      <td>2019-10-01</td>\n",
       "      <td>77.915748</td>\n",
       "      <td>-222.811640</td>\n",
       "      <td>389.501292</td>\n",
       "    </tr>\n",
       "    <tr>\n",
       "      <th>58</th>\n",
       "      <td>2019-11-01</td>\n",
       "      <td>-43.415147</td>\n",
       "      <td>-336.048022</td>\n",
       "      <td>239.113033</td>\n",
       "    </tr>\n",
       "    <tr>\n",
       "      <th>59</th>\n",
       "      <td>2019-12-01</td>\n",
       "      <td>983.495754</td>\n",
       "      <td>686.083092</td>\n",
       "      <td>1280.532468</td>\n",
       "    </tr>\n",
       "  </tbody>\n",
       "</table>\n",
       "</div>"
      ],
      "text/plain": [
       "           ds        yhat  yhat_lower   yhat_upper\n",
       "55 2019-08-01  308.902107   27.814127   606.050504\n",
       "56 2019-09-01  853.576507  566.514858  1155.054257\n",
       "57 2019-10-01   77.915748 -222.811640   389.501292\n",
       "58 2019-11-01  -43.415147 -336.048022   239.113033\n",
       "59 2019-12-01  983.495754  686.083092  1280.532468"
      ]
     },
     "execution_count": 145,
     "metadata": {},
     "output_type": "execute_result"
    }
   ],
   "source": [
    "forecast = m.predict(future)\n",
    "forecast[['ds', 'yhat', 'yhat_lower', 'yhat_upper']].tail()"
   ]
  },
  {
   "cell_type": "code",
   "execution_count": 146,
   "metadata": {},
   "outputs": [],
   "source": [
    "#forecast.tail(12)"
   ]
  },
  {
   "cell_type": "code",
   "execution_count": 147,
   "metadata": {},
   "outputs": [
    {
     "data": {
      "text/html": [
       "<div>\n",
       "<style scoped>\n",
       "    .dataframe tbody tr th:only-of-type {\n",
       "        vertical-align: middle;\n",
       "    }\n",
       "\n",
       "    .dataframe tbody tr th {\n",
       "        vertical-align: top;\n",
       "    }\n",
       "\n",
       "    .dataframe thead th {\n",
       "        text-align: right;\n",
       "    }\n",
       "</style>\n",
       "<table border=\"1\" class=\"dataframe\">\n",
       "  <thead>\n",
       "    <tr style=\"text-align: right;\">\n",
       "      <th></th>\n",
       "      <th>ds</th>\n",
       "      <th>QTD_VENDA</th>\n",
       "      <th>yhat</th>\n",
       "      <th>yhat_lower</th>\n",
       "      <th>yhat_upper</th>\n",
       "    </tr>\n",
       "  </thead>\n",
       "  <tbody>\n",
       "    <tr>\n",
       "      <th>0</th>\n",
       "      <td>2015-01-01</td>\n",
       "      <td>1100</td>\n",
       "      <td>572.443129</td>\n",
       "      <td>279.970143</td>\n",
       "      <td>867.275554</td>\n",
       "    </tr>\n",
       "    <tr>\n",
       "      <th>1</th>\n",
       "      <td>2015-02-01</td>\n",
       "      <td>964</td>\n",
       "      <td>714.693562</td>\n",
       "      <td>409.498288</td>\n",
       "      <td>991.657468</td>\n",
       "    </tr>\n",
       "    <tr>\n",
       "      <th>2</th>\n",
       "      <td>2015-03-01</td>\n",
       "      <td>1269</td>\n",
       "      <td>1263.969380</td>\n",
       "      <td>962.171953</td>\n",
       "      <td>1557.532023</td>\n",
       "    </tr>\n",
       "    <tr>\n",
       "      <th>3</th>\n",
       "      <td>2015-04-01</td>\n",
       "      <td>486</td>\n",
       "      <td>549.226316</td>\n",
       "      <td>244.712559</td>\n",
       "      <td>872.934428</td>\n",
       "    </tr>\n",
       "    <tr>\n",
       "      <th>4</th>\n",
       "      <td>2015-05-01</td>\n",
       "      <td>96</td>\n",
       "      <td>372.381701</td>\n",
       "      <td>71.094540</td>\n",
       "      <td>653.654137</td>\n",
       "    </tr>\n",
       "    <tr>\n",
       "      <th>5</th>\n",
       "      <td>2015-06-01</td>\n",
       "      <td>566</td>\n",
       "      <td>594.262617</td>\n",
       "      <td>306.779424</td>\n",
       "      <td>884.493987</td>\n",
       "    </tr>\n",
       "    <tr>\n",
       "      <th>6</th>\n",
       "      <td>2015-07-01</td>\n",
       "      <td>379</td>\n",
       "      <td>848.642923</td>\n",
       "      <td>557.107324</td>\n",
       "      <td>1147.325178</td>\n",
       "    </tr>\n",
       "    <tr>\n",
       "      <th>7</th>\n",
       "      <td>2015-08-01</td>\n",
       "      <td>646</td>\n",
       "      <td>629.603417</td>\n",
       "      <td>328.058433</td>\n",
       "      <td>916.169683</td>\n",
       "    </tr>\n",
       "    <tr>\n",
       "      <th>8</th>\n",
       "      <td>2015-09-01</td>\n",
       "      <td>1429</td>\n",
       "      <td>1174.276875</td>\n",
       "      <td>879.972994</td>\n",
       "      <td>1453.544564</td>\n",
       "    </tr>\n",
       "    <tr>\n",
       "      <th>9</th>\n",
       "      <td>2015-10-01</td>\n",
       "      <td>448</td>\n",
       "      <td>398.615205</td>\n",
       "      <td>110.313846</td>\n",
       "      <td>690.869629</td>\n",
       "    </tr>\n",
       "    <tr>\n",
       "      <th>10</th>\n",
       "      <td>2015-11-01</td>\n",
       "      <td>430</td>\n",
       "      <td>277.283368</td>\n",
       "      <td>-12.668513</td>\n",
       "      <td>580.113137</td>\n",
       "    </tr>\n",
       "    <tr>\n",
       "      <th>11</th>\n",
       "      <td>2015-12-01</td>\n",
       "      <td>1147</td>\n",
       "      <td>1304.193357</td>\n",
       "      <td>999.505973</td>\n",
       "      <td>1615.699401</td>\n",
       "    </tr>\n",
       "  </tbody>\n",
       "</table>\n",
       "</div>"
      ],
      "text/plain": [
       "           ds  QTD_VENDA         yhat  yhat_lower   yhat_upper\n",
       "0  2015-01-01       1100   572.443129  279.970143   867.275554\n",
       "1  2015-02-01        964   714.693562  409.498288   991.657468\n",
       "2  2015-03-01       1269  1263.969380  962.171953  1557.532023\n",
       "3  2015-04-01        486   549.226316  244.712559   872.934428\n",
       "4  2015-05-01         96   372.381701   71.094540   653.654137\n",
       "5  2015-06-01        566   594.262617  306.779424   884.493987\n",
       "6  2015-07-01        379   848.642923  557.107324  1147.325178\n",
       "7  2015-08-01        646   629.603417  328.058433   916.169683\n",
       "8  2015-09-01       1429  1174.276875  879.972994  1453.544564\n",
       "9  2015-10-01        448   398.615205  110.313846   690.869629\n",
       "10 2015-11-01        430   277.283368  -12.668513   580.113137\n",
       "11 2015-12-01       1147  1304.193357  999.505973  1615.699401"
      ]
     },
     "execution_count": 147,
     "metadata": {},
     "output_type": "execute_result"
    }
   ],
   "source": [
    "forecast['QTD_VENDA'] = df_total.y\n",
    "\n",
    "forecast[['ds','QTD_VENDA','yhat', 'yhat_lower', 'yhat_upper']].head(12)"
   ]
  },
  {
   "cell_type": "markdown",
   "metadata": {},
   "source": [
    "You can plot the forecast by calling the `Prophet.plot` method and passing in your forecast dataframe."
   ]
  },
  {
   "cell_type": "code",
   "execution_count": 148,
   "metadata": {},
   "outputs": [
    {
     "data": {
      "image/png": "[encoded data removed]",
      "text/plain": [
       "<Figure size 1440x576 with 1 Axes>"
      ]
     },
     "metadata": {},
     "output_type": "display_data"
    }
   ],
   "source": [
    "plt.figure(figsize=(20, 8))\n",
    "plt.plot(forecast['ds'], forecast['QTD_VENDA'], 'b-', label = 'Vendas')\n",
    "plt.plot(forecast['ds'], forecast['yhat'], 'r-', label = 'Forecast')\n",
    "plt.xlabel('Date'); plt.ylabel('Sales'); plt.title('Forecast Sales')\n",
    "plt.legend();"
   ]
  },
  {
   "cell_type": "code",
   "execution_count": 149,
   "metadata": {},
   "outputs": [
    {
     "data": {
      "image/png": "[encoded data removed]",
      "text/plain": [
       "<Figure size 720x432 with 1 Axes>"
      ]
     },
     "metadata": {},
     "output_type": "display_data"
    }
   ],
   "source": [
    "fig1 = m.plot(forecast)"
   ]
  },
  {
   "cell_type": "markdown",
   "metadata": {},
   "source": [
    "If you want to see the forecast components, you can use the `Prophet.plot_components` method.  By default you'll see the trend, yearly seasonality, and weekly seasonality of the time series.  If you include holidays, you'll see those here, too."
   ]
  },
  {
   "cell_type": "code",
   "execution_count": 150,
   "metadata": {},
   "outputs": [
    {
     "data": {
      "image/png": "[encoded data removed]",
      "text/plain": [
       "<Figure size 648x432 with 2 Axes>"
      ]
     },
     "metadata": {},
     "output_type": "display_data"
    }
   ],
   "source": [
    "fig2 = m.plot_components(forecast)"
   ]
  },
  {
   "cell_type": "markdown",
   "metadata": {},
   "source": [
    "An interactive figure of the forecast and components can be created with plotly. You will need to install plotly 4.0 or above separately, as it will not by default be installed with fbprophet. You will also need to install the `notebook` and `ipywidgets` packages."
   ]
  },
  {
   "cell_type": "code",
   "execution_count": 151,
   "metadata": {},
   "outputs": [
    {
     "data": {
      "application/vnd.plotly.v1+json": {
       "config": {
        "plotlyServerURL": "https://plot.ly"
       },
       "data": [
        {
         "marker": {
          "color": "black",
          "size": 4
         },
         "mode": "markers",
         "name": "Actual",
         "type": "scatter",
         "x": [
          "2015-01-01T00:00:00",
          "2015-02-01T00:00:00",
          "2015-03-01T00:00:00",
          "2015-04-01T00:00:00",
          "2015-05-01T00:00:00",
          "2015-06-01T00:00:00",
          "2015-07-01T00:00:00",
          "2015-08-01T00:00:00",
          "2015-09-01T00:00:00",
          "2015-10-01T00:00:00",
          "2015-11-01T00:00:00",
          "2015-12-01T00:00:00",
          "2016-01-01T00:00:00",
          "2016-02-01T00:00:00",
          "2016-03-01T00:00:00",
          "2016-04-01T00:00:00",
          "2016-05-01T00:00:00",
          "2016-06-01T00:00:00",
          "2016-07-01T00:00:00",
          "2016-08-01T00:00:00",
          "2016-09-01T00:00:00",
          "2016-10-01T00:00:00",
          "2016-11-01T00:00:00",
          "2016-12-01T00:00:00",
          "2017-01-01T00:00:00",
          "2017-02-01T00:00:00",
          "2017-03-01T00:00:00",
          "2017-04-01T00:00:00",
          "2017-05-01T00:00:00",
          "2017-06-01T00:00:00",
          "2017-07-01T00:00:00",
          "2017-08-01T00:00:00",
          "2017-09-01T00:00:00",
          "2017-10-01T00:00:00",
          "2017-11-01T00:00:00",
          "2017-12-01T00:00:00",
          "2018-01-01T00:00:00",
          "2018-02-01T00:00:00",
          "2018-03-01T00:00:00",
          "2018-04-01T00:00:00",
          "2018-05-01T00:00:00",
          "2018-06-01T00:00:00",
          "2018-07-01T00:00:00",
          "2018-08-01T00:00:00",
          "2018-09-01T00:00:00",
          "2018-10-01T00:00:00",
          "2018-11-01T00:00:00",
          "2018-12-01T00:00:00"
         ],
         "y": [
          1100,
          964,
          1269,
          486,
          96,
          566,
          379,
          646,
          1429,
          448,
          430,
          1147,
          308,
          552,
          754,
          601,
          289,
          700,
          583,
          1189,
          252,
          295,
          931,
          924,
          174,
          332,
          1638,
          325,
          766,
          707,
          619,
          721,
          270,
          214,
          394,
          1324,
          163,
          452,
          632,
          329,
          221,
          156,
          1136,
          501,
          254,
          188,
          262,
          1362
         ]
        },
        {
         "hoverinfo": "skip",
         "line": {
          "width": 0
         },
         "mode": "lines",
         "type": "scatter",
         "x": [
          "2015-01-01T00:00:00",
          "2015-02-01T00:00:00",
          "2015-03-01T00:00:00",
          "2015-04-01T00:00:00",
          "2015-05-01T00:00:00",
          "2015-06-01T00:00:00",
          "2015-07-01T00:00:00",
          "2015-08-01T00:00:00",
          "2015-09-01T00:00:00",
          "2015-10-01T00:00:00",
          "2015-11-01T00:00:00",
          "2015-12-01T00:00:00",
          "2016-01-01T00:00:00",
          "2016-02-01T00:00:00",
          "2016-03-01T00:00:00",
          "2016-04-01T00:00:00",
          "2016-05-01T00:00:00",
          "2016-06-01T00:00:00",
          "2016-07-01T00:00:00",
          "2016-08-01T00:00:00",
          "2016-09-01T00:00:00",
          "2016-10-01T00:00:00",
          "2016-11-01T00:00:00",
          "2016-12-01T00:00:00",
          "2017-01-01T00:00:00",
          "2017-02-01T00:00:00",
          "2017-03-01T00:00:00",
          "2017-04-01T00:00:00",
          "2017-05-01T00:00:00",
          "2017-06-01T00:00:00",
          "2017-07-01T00:00:00",
          "2017-08-01T00:00:00",
          "2017-09-01T00:00:00",
          "2017-10-01T00:00:00",
          "2017-11-01T00:00:00",
          "2017-12-01T00:00:00",
          "2018-01-01T00:00:00",
          "2018-02-01T00:00:00",
          "2018-03-01T00:00:00",
          "2018-04-01T00:00:00",
          "2018-05-01T00:00:00",
          "2018-06-01T00:00:00",
          "2018-07-01T00:00:00",
          "2018-08-01T00:00:00",
          "2018-09-01T00:00:00",
          "2018-10-01T00:00:00",
          "2018-11-01T00:00:00",
          "2018-12-01T00:00:00",
          "2019-01-01T00:00:00",
          "2019-02-01T00:00:00",
          "2019-03-01T00:00:00",
          "2019-04-01T00:00:00",
          "2019-05-01T00:00:00",
          "2019-06-01T00:00:00",
          "2019-07-01T00:00:00",
          "2019-08-01T00:00:00",
          "2019-09-01T00:00:00",
          "2019-10-01T00:00:00",
          "2019-11-01T00:00:00",
          "2019-12-01T00:00:00"
         ],
         "y": [
          279.9701428393961,
          409.49828793434375,
          962.1719527694908,
          244.71255894059962,
          71.09454030435437,
          306.7794239329976,
          557.1073235223982,
          328.05843300258033,
          879.9729942643821,
          110.31384609720976,
          -12.668512973385717,
          999.5059733137391,
          217.61836803545697,
          387.6368343597833,
          740.5340562790642,
          178.80639805707284,
          193.5570566034225,
          346.376907554273,
          379.4283736481407,
          759.814706641941,
          -190.16916467609298,
          22.179040324075153,
          599.0101587258994,
          951.7202904327211,
          50.79713184252027,
          173.40974187471377,
          698.6743667081164,
          84.48453257331275,
          32.87761258002242,
          206.2718754154841,
          295.9073301847899,
          529.9593961250299,
          41.07164507548948,
          -28.343096358776283,
          251.5609546569263,
          848.8097095493418,
          0.0032385764217622848,
          135.8874905470938,
          667.5455051844914,
          15.486335838011007,
          -96.48334648352012,
          93.62057938313143,
          269.41670831642375,
          252.84042787567697,
          279.9818872829084,
          -121.558285840603,
          -12.83798155913708,
          772.4367535901288,
          -35.23434064158146,
          91.85060232466174,
          663.5147176051473,
          -84.93388918328947,
          -258.1105470984447,
          -31.998412155203553,
          229.29114599455374,
          27.814127475926284,
          566.514858190024,
          -222.81164044749374,
          -336.0480224044938,
          686.0830918037226
         ]
        },
        {
         "fill": "tonexty",
         "fillcolor": "rgba(0, 114, 178, 0.2)",
         "line": {
          "color": "#0072B2",
          "width": 2
         },
         "mode": "lines",
         "name": "Predicted",
         "type": "scatter",
         "x": [
          "2015-01-01T00:00:00",
          "2015-02-01T00:00:00",
          "2015-03-01T00:00:00",
          "2015-04-01T00:00:00",
          "2015-05-01T00:00:00",
          "2015-06-01T00:00:00",
          "2015-07-01T00:00:00",
          "2015-08-01T00:00:00",
          "2015-09-01T00:00:00",
          "2015-10-01T00:00:00",
          "2015-11-01T00:00:00",
          "2015-12-01T00:00:00",
          "2016-01-01T00:00:00",
          "2016-02-01T00:00:00",
          "2016-03-01T00:00:00",
          "2016-04-01T00:00:00",
          "2016-05-01T00:00:00",
          "2016-06-01T00:00:00",
          "2016-07-01T00:00:00",
          "2016-08-01T00:00:00",
          "2016-09-01T00:00:00",
          "2016-10-01T00:00:00",
          "2016-11-01T00:00:00",
          "2016-12-01T00:00:00",
          "2017-01-01T00:00:00",
          "2017-02-01T00:00:00",
          "2017-03-01T00:00:00",
          "2017-04-01T00:00:00",
          "2017-05-01T00:00:00",
          "2017-06-01T00:00:00",
          "2017-07-01T00:00:00",
          "2017-08-01T00:00:00",
          "2017-09-01T00:00:00",
          "2017-10-01T00:00:00",
          "2017-11-01T00:00:00",
          "2017-12-01T00:00:00",
          "2018-01-01T00:00:00",
          "2018-02-01T00:00:00",
          "2018-03-01T00:00:00",
          "2018-04-01T00:00:00",
          "2018-05-01T00:00:00",
          "2018-06-01T00:00:00",
          "2018-07-01T00:00:00",
          "2018-08-01T00:00:00",
          "2018-09-01T00:00:00",
          "2018-10-01T00:00:00",
          "2018-11-01T00:00:00",
          "2018-12-01T00:00:00",
          "2019-01-01T00:00:00",
          "2019-02-01T00:00:00",
          "2019-03-01T00:00:00",
          "2019-04-01T00:00:00",
          "2019-05-01T00:00:00",
          "2019-06-01T00:00:00",
          "2019-07-01T00:00:00",
          "2019-08-01T00:00:00",
          "2019-09-01T00:00:00",
          "2019-10-01T00:00:00",
          "2019-11-01T00:00:00",
          "2019-12-01T00:00:00"
         ],
         "y": [
          572.4431290537403,
          714.6935615712218,
          1263.9693801268156,
          549.2263160842326,
          372.3817006244829,
          594.2626168019171,
          848.6429227421759,
          629.6034166407344,
          1174.276874803892,
          398.6152050753494,
          277.2833676288752,
          1304.193357471247,
          530.0284768651265,
          676.6658477722124,
          1039.7698337165623,
          477.8624130204612,
          472.2096241648368,
          630.5032991018188,
          669.938879438166,
          1063.113747695715,
          89.58379398425939,
          326.2351345154511,
          889.2656420054461,
          1237.0777498413127,
          343.5869201401188,
          472.70899228509074,
          1009.1362115326006,
          396.837382605685,
          332.7443972441199,
          510.5146210403367,
          622.5086760700857,
          807.3461058070842,
          342.6165144281801,
          250.81127983351234,
          579.861620551509,
          1149.0767530558642,
          296.47280405772847,
          432.8728577104099,
          976.9907709583179,
          313.72069064492655,
          192.53758073923143,
          391.51230586570074,
          575.1719638325466,
          555.9124974599721,
          597.3974336541752,
          168.04372750715447,
          268.8786932526221,
          1064.5278959663342,
          251.73537835731088,
          393.986752711706,
          943.2634219574584,
          228.521299749323,
          51.677595730250914,
          273.5594537054446,
          527.9406710656388,
          308.9021067705978,
          853.5765067353002,
          77.91574842600232,
          -43.41514720829372,
          983.4957540533011
         ]
        },
        {
         "fill": "tonexty",
         "fillcolor": "rgba(0, 114, 178, 0.2)",
         "hoverinfo": "skip",
         "line": {
          "width": 0
         },
         "mode": "lines",
         "type": "scatter",
         "x": [
          "2015-01-01T00:00:00",
          "2015-02-01T00:00:00",
          "2015-03-01T00:00:00",
          "2015-04-01T00:00:00",
          "2015-05-01T00:00:00",
          "2015-06-01T00:00:00",
          "2015-07-01T00:00:00",
          "2015-08-01T00:00:00",
          "2015-09-01T00:00:00",
          "2015-10-01T00:00:00",
          "2015-11-01T00:00:00",
          "2015-12-01T00:00:00",
          "2016-01-01T00:00:00",
          "2016-02-01T00:00:00",
          "2016-03-01T00:00:00",
          "2016-04-01T00:00:00",
          "2016-05-01T00:00:00",
          "2016-06-01T00:00:00",
          "2016-07-01T00:00:00",
          "2016-08-01T00:00:00",
          "2016-09-01T00:00:00",
          "2016-10-01T00:00:00",
          "2016-11-01T00:00:00",
          "2016-12-01T00:00:00",
          "2017-01-01T00:00:00",
          "2017-02-01T00:00:00",
          "2017-03-01T00:00:00",
          "2017-04-01T00:00:00",
          "2017-05-01T00:00:00",
          "2017-06-01T00:00:00",
          "2017-07-01T00:00:00",
          "2017-08-01T00:00:00",
          "2017-09-01T00:00:00",
          "2017-10-01T00:00:00",
          "2017-11-01T00:00:00",
          "2017-12-01T00:00:00",
          "2018-01-01T00:00:00",
          "2018-02-01T00:00:00",
          "2018-03-01T00:00:00",
          "2018-04-01T00:00:00",
          "2018-05-01T00:00:00",
          "2018-06-01T00:00:00",
          "2018-07-01T00:00:00",
          "2018-08-01T00:00:00",
          "2018-09-01T00:00:00",
          "2018-10-01T00:00:00",
          "2018-11-01T00:00:00",
          "2018-12-01T00:00:00",
          "2019-01-01T00:00:00",
          "2019-02-01T00:00:00",
          "2019-03-01T00:00:00",
          "2019-04-01T00:00:00",
          "2019-05-01T00:00:00",
          "2019-06-01T00:00:00",
          "2019-07-01T00:00:00",
          "2019-08-01T00:00:00",
          "2019-09-01T00:00:00",
          "2019-10-01T00:00:00",
          "2019-11-01T00:00:00",
          "2019-12-01T00:00:00"
         ],
         "y": [
          867.275553675544,
          991.6574675507928,
          1557.5320228330625,
          872.934427674796,
          653.6541373375251,
          884.4939867270498,
          1147.3251779995446,
          916.1696832964913,
          1453.5445636044908,
          690.8696290963379,
          580.1131369171931,
          1615.6994009974621,
          831.9868161920177,
          967.2411225330428,
          1338.2127577449512,
          774.227035225497,
          772.1479350420456,
          937.7789666728311,
          950.6956608560387,
          1361.3044712830715,
          384.2127544599334,
          614.6890525538224,
          1178.2475498116053,
          1546.714010263743,
          651.291498217759,
          783.2399194781948,
          1304.629227814347,
          688.4792510584474,
          622.7370577784769,
          806.509269006997,
          920.289250801386,
          1084.4940819335684,
          636.696913154836,
          542.8201019728075,
          869.7541392741526,
          1449.14349867221,
          597.5162551450958,
          721.8284500215196,
          1274.4388004468738,
          636.2536382423056,
          480.9796837752607,
          694.2940893779072,
          877.1813888436599,
          853.1433703073774,
          899.306951377974,
          449.33072358895834,
          558.3217077487332,
          1341.8676215551482,
          557.8091974321642,
          702.9614671992135,
          1224.094188342266,
          524.7754683879026,
          324.18612304497253,
          576.7603640748816,
          834.9921876340303,
          606.0505037854064,
          1155.0542572519853,
          389.5012921950635,
          239.1130328924645,
          1280.5324678973268
         ]
        }
       ],
       "layout": {
        "height": 600,
        "showlegend": false,
        "template": {
         "data": {
          "bar": [
           {
            "error_x": {
             "color": "#2a3f5f"
            },
            "error_y": {
             "color": "#2a3f5f"
            },
            "marker": {
             "line": {
              "color": "#E5ECF6",
              "width": 0.5
             }
            },
            "type": "bar"
           }
          ],
          "barpolar": [
           {
            "marker": {
             "line": {
              "color": "#E5ECF6",
              "width": 0.5
             }
            },
            "type": "barpolar"
           }
          ],
          "carpet": [
           {
            "aaxis": {
             "endlinecolor": "#2a3f5f",
             "gridcolor": "white",
             "linecolor": "white",
             "minorgridcolor": "white",
             "startlinecolor": "#2a3f5f"
            },
            "baxis": {
             "endlinecolor": "#2a3f5f",
             "gridcolor": "white",
             "linecolor": "white",
             "minorgridcolor": "white",
             "startlinecolor": "#2a3f5f"
            },
            "type": "carpet"
           }
          ],
          "choropleth": [
           {
            "colorbar": {
             "outlinewidth": 0,
             "ticks": ""
            },
            "type": "choropleth"
           }
          ],
          "contour": [
           {
            "colorbar": {
             "outlinewidth": 0,
             "ticks": ""
            },
            "colorscale": [
             [
              0,
              "#0d0887"
             ],
             [
              0.1111111111111111,
              "#46039f"
             ],
             [
              0.2222222222222222,
              "#7201a8"
             ],
             [
              0.3333333333333333,
              "#9c179e"
             ],
             [
              0.4444444444444444,
              "#bd3786"
             ],
             [
              0.5555555555555556,
              "#d8576b"
             ],
             [
              0.6666666666666666,
              "#ed7953"
             ],
             [
              0.7777777777777778,
              "#fb9f3a"
             ],
             [
              0.8888888888888888,
              "#fdca26"
             ],
             [
              1,
              "#f0f921"
             ]
            ],
            "type": "contour"
           }
          ],
          "contourcarpet": [
           {
            "colorbar": {
             "outlinewidth": 0,
             "ticks": ""
            },
            "type": "contourcarpet"
           }
          ],
          "heatmap": [
           {
            "colorbar": {
             "outlinewidth": 0,
             "ticks": ""
            },
            "colorscale": [
             [
              0,
              "#0d0887"
             ],
             [
              0.1111111111111111,
              "#46039f"
             ],
             [
              0.2222222222222222,
              "#7201a8"
             ],
             [
              0.3333333333333333,
              "#9c179e"
             ],
             [
              0.4444444444444444,
              "#bd3786"
             ],
             [
              0.5555555555555556,
              "#d8576b"
             ],
             [
              0.6666666666666666,
              "#ed7953"
             ],
             [
              0.7777777777777778,
              "#fb9f3a"
             ],
             [
              0.8888888888888888,
              "#fdca26"
             ],
             [
              1,
              "#f0f921"
             ]
            ],
            "type": "heatmap"
           }
          ],
          "heatmapgl": [
           {
            "colorbar": {
             "outlinewidth": 0,
             "ticks": ""
            },
            "colorscale": [
             [
              0,
              "#0d0887"
             ],
             [
              0.1111111111111111,
              "#46039f"
             ],
             [
              0.2222222222222222,
              "#7201a8"
             ],
             [
              0.3333333333333333,
              "#9c179e"
             ],
             [
              0.4444444444444444,
              "#bd3786"
             ],
             [
              0.5555555555555556,
              "#d8576b"
             ],
             [
              0.6666666666666666,
              "#ed7953"
             ],
             [
              0.7777777777777778,
              "#fb9f3a"
             ],
             [
              0.8888888888888888,
              "#fdca26"
             ],
             [
              1,
              "#f0f921"
             ]
            ],
            "type": "heatmapgl"
           }
          ],
          "histogram": [
           {
            "marker": {
             "colorbar": {
              "outlinewidth": 0,
              "ticks": ""
             }
            },
            "type": "histogram"
           }
          ],
          "histogram2d": [
           {
            "colorbar": {
             "outlinewidth": 0,
             "ticks": ""
            },
            "colorscale": [
             [
              0,
              "#0d0887"
             ],
             [
              0.1111111111111111,
              "#46039f"
             ],
             [
              0.2222222222222222,
              "#7201a8"
             ],
             [
              0.3333333333333333,
              "#9c179e"
             ],
             [
              0.4444444444444444,
              "#bd3786"
             ],
             [
              0.5555555555555556,
              "#d8576b"
             ],
             [
              0.6666666666666666,
              "#ed7953"
             ],
             [
              0.7777777777777778,
              "#fb9f3a"
             ],
             [
              0.8888888888888888,
              "#fdca26"
             ],
             [
              1,
              "#f0f921"
             ]
            ],
            "type": "histogram2d"
           }
          ],
          "histogram2dcontour": [
           {
            "colorbar": {
             "outlinewidth": 0,
             "ticks": ""
            },
            "colorscale": [
             [
              0,
              "#0d0887"
             ],
             [
              0.1111111111111111,
              "#46039f"
             ],
             [
              0.2222222222222222,
              "#7201a8"
             ],
             [
              0.3333333333333333,
              "#9c179e"
             ],
             [
              0.4444444444444444,
              "#bd3786"
             ],
             [
              0.5555555555555556,
              "#d8576b"
             ],
             [
              0.6666666666666666,
              "#ed7953"
             ],
             [
              0.7777777777777778,
              "#fb9f3a"
             ],
             [
              0.8888888888888888,
              "#fdca26"
             ],
             [
              1,
              "#f0f921"
             ]
            ],
            "type": "histogram2dcontour"
           }
          ],
          "mesh3d": [
           {
            "colorbar": {
             "outlinewidth": 0,
             "ticks": ""
            },
            "type": "mesh3d"
           }
          ],
          "parcoords": [
           {
            "line": {
             "colorbar": {
              "outlinewidth": 0,
              "ticks": ""
             }
            },
            "type": "parcoords"
           }
          ],
          "pie": [
           {
            "automargin": true,
            "type": "pie"
           }
          ],
          "scatter": [
           {
            "marker": {
             "colorbar": {
              "outlinewidth": 0,
              "ticks": ""
             }
            },
            "type": "scatter"
           }
          ],
          "scatter3d": [
           {
            "line": {
             "colorbar": {
              "outlinewidth": 0,
              "ticks": ""
             }
            },
            "marker": {
             "colorbar": {
              "outlinewidth": 0,
              "ticks": ""
             }
            },
            "type": "scatter3d"
           }
          ],
          "scattercarpet": [
           {
            "marker": {
             "colorbar": {
              "outlinewidth": 0,
              "ticks": ""
             }
            },
            "type": "scattercarpet"
           }
          ],
          "scattergeo": [
           {
            "marker": {
             "colorbar": {
              "outlinewidth": 0,
              "ticks": ""
             }
            },
            "type": "scattergeo"
           }
          ],
          "scattergl": [
           {
            "marker": {
             "colorbar": {
              "outlinewidth": 0,
              "ticks": ""
             }
            },
            "type": "scattergl"
           }
          ],
          "scattermapbox": [
           {
            "marker": {
             "colorbar": {
              "outlinewidth": 0,
              "ticks": ""
             }
            },
            "type": "scattermapbox"
           }
          ],
          "scatterpolar": [
           {
            "marker": {
             "colorbar": {
              "outlinewidth": 0,
              "ticks": ""
             }
            },
            "type": "scatterpolar"
           }
          ],
          "scatterpolargl": [
           {
            "marker": {
             "colorbar": {
              "outlinewidth": 0,
              "ticks": ""
             }
            },
            "type": "scatterpolargl"
           }
          ],
          "scatterternary": [
           {
            "marker": {
             "colorbar": {
              "outlinewidth": 0,
              "ticks": ""
             }
            },
            "type": "scatterternary"
           }
          ],
          "surface": [
           {
            "colorbar": {
             "outlinewidth": 0,
             "ticks": ""
            },
            "colorscale": [
             [
              0,
              "#0d0887"
             ],
             [
              0.1111111111111111,
              "#46039f"
             ],
             [
              0.2222222222222222,
              "#7201a8"
             ],
             [
              0.3333333333333333,
              "#9c179e"
             ],
             [
              0.4444444444444444,
              "#bd3786"
             ],
             [
              0.5555555555555556,
              "#d8576b"
             ],
             [
              0.6666666666666666,
              "#ed7953"
             ],
             [
              0.7777777777777778,
              "#fb9f3a"
             ],
             [
              0.8888888888888888,
              "#fdca26"
             ],
             [
              1,
              "#f0f921"
             ]
            ],
            "type": "surface"
           }
          ],
          "table": [
           {
            "cells": {
             "fill": {
              "color": "#EBF0F8"
             },
             "line": {
              "color": "white"
             }
            },
            "header": {
             "fill": {
              "color": "#C8D4E3"
             },
             "line": {
              "color": "white"
             }
            },
            "type": "table"
           }
          ]
         },
         "layout": {
          "annotationdefaults": {
           "arrowcolor": "#2a3f5f",
           "arrowhead": 0,
           "arrowwidth": 1
          },
          "autotypenumbers": "strict",
          "coloraxis": {
           "colorbar": {
            "outlinewidth": 0,
            "ticks": ""
           }
          },
          "colorscale": {
           "diverging": [
            [
             0,
             "#8e0152"
            ],
            [
             0.1,
             "#c51b7d"
            ],
            [
             0.2,
             "#de77ae"
            ],
            [
             0.3,
             "#f1b6da"
            ],
            [
             0.4,
             "#fde0ef"
            ],
            [
             0.5,
             "#f7f7f7"
            ],
            [
             0.6,
             "#e6f5d0"
            ],
            [
             0.7,
             "#b8e186"
            ],
            [
             0.8,
             "#7fbc41"
            ],
            [
             0.9,
             "#4d9221"
            ],
            [
             1,
             "#276419"
            ]
           ],
           "sequential": [
            [
             0,
             "#0d0887"
            ],
            [
             0.1111111111111111,
             "#46039f"
            ],
            [
             0.2222222222222222,
             "#7201a8"
            ],
            [
             0.3333333333333333,
             "#9c179e"
            ],
            [
             0.4444444444444444,
             "#bd3786"
            ],
            [
             0.5555555555555556,
             "#d8576b"
            ],
            [
             0.6666666666666666,
             "#ed7953"
            ],
            [
             0.7777777777777778,
             "#fb9f3a"
            ],
            [
             0.8888888888888888,
             "#fdca26"
            ],
            [
             1,
             "#f0f921"
            ]
           ],
           "sequentialminus": [
            [
             0,
             "#0d0887"
            ],
            [
             0.1111111111111111,
             "#46039f"
            ],
            [
             0.2222222222222222,
             "#7201a8"
            ],
            [
             0.3333333333333333,
             "#9c179e"
            ],
            [
             0.4444444444444444,
             "#bd3786"
            ],
            [
             0.5555555555555556,
             "#d8576b"
            ],
            [
             0.6666666666666666,
             "#ed7953"
            ],
            [
             0.7777777777777778,
             "#fb9f3a"
            ],
            [
             0.8888888888888888,
             "#fdca26"
            ],
            [
             1,
             "#f0f921"
            ]
           ]
          },
          "colorway": [
           "#636efa",
           "#EF553B",
           "#00cc96",
           "#ab63fa",
           "#FFA15A",
           "#19d3f3",
           "#FF6692",
           "#B6E880",
           "#FF97FF",
           "#FECB52"
          ],
          "font": {
           "color": "#2a3f5f"
          },
          "geo": {
           "bgcolor": "white",
           "lakecolor": "white",
           "landcolor": "#E5ECF6",
           "showlakes": true,
           "showland": true,
           "subunitcolor": "white"
          },
          "hoverlabel": {
           "align": "left"
          },
          "hovermode": "closest",
          "mapbox": {
           "style": "light"
          },
          "paper_bgcolor": "white",
          "plot_bgcolor": "#E5ECF6",
          "polar": {
           "angularaxis": {
            "gridcolor": "white",
            "linecolor": "white",
            "ticks": ""
           },
           "bgcolor": "#E5ECF6",
           "radialaxis": {
            "gridcolor": "white",
            "linecolor": "white",
            "ticks": ""
           }
          },
          "scene": {
           "xaxis": {
            "backgroundcolor": "#E5ECF6",
            "gridcolor": "white",
            "gridwidth": 2,
            "linecolor": "white",
            "showbackground": true,
            "ticks": "",
            "zerolinecolor": "white"
           },
           "yaxis": {
            "backgroundcolor": "#E5ECF6",
            "gridcolor": "white",
            "gridwidth": 2,
            "linecolor": "white",
            "showbackground": true,
            "ticks": "",
            "zerolinecolor": "white"
           },
           "zaxis": {
            "backgroundcolor": "#E5ECF6",
            "gridcolor": "white",
            "gridwidth": 2,
            "linecolor": "white",
            "showbackground": true,
            "ticks": "",
            "zerolinecolor": "white"
           }
          },
          "shapedefaults": {
           "line": {
            "color": "#2a3f5f"
           }
          },
          "ternary": {
           "aaxis": {
            "gridcolor": "white",
            "linecolor": "white",
            "ticks": ""
           },
           "baxis": {
            "gridcolor": "white",
            "linecolor": "white",
            "ticks": ""
           },
           "bgcolor": "#E5ECF6",
           "caxis": {
            "gridcolor": "white",
            "linecolor": "white",
            "ticks": ""
           }
          },
          "title": {
           "x": 0.05
          },
          "xaxis": {
           "automargin": true,
           "gridcolor": "white",
           "linecolor": "white",
           "ticks": "",
           "title": {
            "standoff": 15
           },
           "zerolinecolor": "white",
           "zerolinewidth": 2
          },
          "yaxis": {
           "automargin": true,
           "gridcolor": "white",
           "linecolor": "white",
           "ticks": "",
           "title": {
            "standoff": 15
           },
           "zerolinecolor": "white",
           "zerolinewidth": 2
          }
         }
        },
        "width": 900,
        "xaxis": {
         "rangeselector": {
          "buttons": [
           {
            "count": 7,
            "label": "1w",
            "step": "day",
            "stepmode": "backward"
           },
           {
            "count": 1,
            "label": "1m",
            "step": "month",
            "stepmode": "backward"
           },
           {
            "count": 6,
            "label": "6m",
            "step": "month",
            "stepmode": "backward"
           },
           {
            "count": 1,
            "label": "1y",
            "step": "year",
            "stepmode": "backward"
           },
           {
            "step": "all"
           }
          ]
         },
         "rangeslider": {
          "visible": true
         },
         "title": {
          "text": "ds"
         },
         "type": "date"
        },
        "yaxis": {
         "title": {
          "text": "y"
         }
        }
       }
      },
      "text/html": [
       "<div>                            <div id=\"09312637-b045-4903-925c-1264bcb61aed\" class=\"plotly-graph-div\" style=\"height:600px; width:900px;\"></div>            <script type=\"text/javascript\">                require([\"plotly\"], function(Plotly) {                    window.PLOTLYENV=window.PLOTLYENV || {};                                    if (document.getElementById(\"09312637-b045-4903-925c-1264bcb61aed\")) {                    Plotly.newPlot(                        \"09312637-b045-4903-925c-1264bcb61aed\",                        [{\"marker\": {\"color\": \"black\", \"size\": 4}, \"mode\": \"markers\", \"name\": \"Actual\", \"type\": \"scatter\", \"x\": [\"2015-01-01T00:00:00\", \"2015-02-01T00:00:00\", \"2015-03-01T00:00:00\", \"2015-04-01T00:00:00\", \"2015-05-01T00:00:00\", \"2015-06-01T00:00:00\", \"2015-07-01T00:00:00\", \"2015-08-01T00:00:00\", \"2015-09-01T00:00:00\", \"2015-10-01T00:00:00\", \"2015-11-01T00:00:00\", \"2015-12-01T00:00:00\", \"2016-01-01T00:00:00\", \"2016-02-01T00:00:00\", \"2016-03-01T00:00:00\", \"2016-04-01T00:00:00\", \"2016-05-01T00:00:00\", \"2016-06-01T00:00:00\", \"2016-07-01T00:00:00\", \"2016-08-01T00:00:00\", \"2016-09-01T00:00:00\", \"2016-10-01T00:00:00\", \"2016-11-01T00:00:00\", \"2016-12-01T00:00:00\", \"2017-01-01T00:00:00\", \"2017-02-01T00:00:00\", \"2017-03-01T00:00:00\", \"2017-04-01T00:00:00\", \"2017-05-01T00:00:00\", \"2017-06-01T00:00:00\", \"2017-07-01T00:00:00\", \"2017-08-01T00:00:00\", \"2017-09-01T00:00:00\", \"2017-10-01T00:00:00\", \"2017-11-01T00:00:00\", \"2017-12-01T00:00:00\", \"2018-01-01T00:00:00\", \"2018-02-01T00:00:00\", \"2018-03-01T00:00:00\", \"2018-04-01T00:00:00\", \"2018-05-01T00:00:00\", \"2018-06-01T00:00:00\", \"2018-07-01T00:00:00\", \"2018-08-01T00:00:00\", \"2018-09-01T00:00:00\", \"2018-10-01T00:00:00\", \"2018-11-01T00:00:00\", \"2018-12-01T00:00:00\"], \"y\": [1100, 964, 1269, 486, 96, 566, 379, 646, 1429, 448, 430, 1147, 308, 552, 754, 601, 289, 700, 583, 1189, 252, 295, 931, 924, 174, 332, 1638, 325, 766, 707, 619, 721, 270, 214, 394, 1324, 163, 452, 632, 329, 221, 156, 1136, 501, 254, 188, 262, 1362]}, {\"hoverinfo\": \"skip\", \"line\": {\"width\": 0}, \"mode\": \"lines\", \"type\": \"scatter\", \"x\": [\"2015-01-01T00:00:00\", \"2015-02-01T00:00:00\", \"2015-03-01T00:00:00\", \"2015-04-01T00:00:00\", \"2015-05-01T00:00:00\", \"2015-06-01T00:00:00\", \"2015-07-01T00:00:00\", \"2015-08-01T00:00:00\", \"2015-09-01T00:00:00\", \"2015-10-01T00:00:00\", \"2015-11-01T00:00:00\", \"2015-12-01T00:00:00\", \"2016-01-01T00:00:00\", \"2016-02-01T00:00:00\", \"2016-03-01T00:00:00\", \"2016-04-01T00:00:00\", \"2016-05-01T00:00:00\", \"2016-06-01T00:00:00\", \"2016-07-01T00:00:00\", \"2016-08-01T00:00:00\", \"2016-09-01T00:00:00\", \"2016-10-01T00:00:00\", \"2016-11-01T00:00:00\", \"2016-12-01T00:00:00\", \"2017-01-01T00:00:00\", \"2017-02-01T00:00:00\", \"2017-03-01T00:00:00\", \"2017-04-01T00:00:00\", \"2017-05-01T00:00:00\", \"2017-06-01T00:00:00\", \"2017-07-01T00:00:00\", \"2017-08-01T00:00:00\", \"2017-09-01T00:00:00\", \"2017-10-01T00:00:00\", \"2017-11-01T00:00:00\", \"2017-12-01T00:00:00\", \"2018-01-01T00:00:00\", \"2018-02-01T00:00:00\", \"2018-03-01T00:00:00\", \"2018-04-01T00:00:00\", \"2018-05-01T00:00:00\", \"2018-06-01T00:00:00\", \"2018-07-01T00:00:00\", \"2018-08-01T00:00:00\", \"2018-09-01T00:00:00\", \"2018-10-01T00:00:00\", \"2018-11-01T00:00:00\", \"2018-12-01T00:00:00\", \"2019-01-01T00:00:00\", \"2019-02-01T00:00:00\", \"2019-03-01T00:00:00\", \"2019-04-01T00:00:00\", \"2019-05-01T00:00:00\", \"2019-06-01T00:00:00\", \"2019-07-01T00:00:00\", \"2019-08-01T00:00:00\", \"2019-09-01T00:00:00\", \"2019-10-01T00:00:00\", \"2019-11-01T00:00:00\", \"2019-12-01T00:00:00\"], \"y\": [279.9701428393961, 409.49828793434375, 962.1719527694908, 244.71255894059962, 71.09454030435437, 306.7794239329976, 557.1073235223982, 328.05843300258033, 879.9729942643821, 110.31384609720976, -12.668512973385717, 999.5059733137391, 217.61836803545697, 387.6368343597833, 740.5340562790642, 178.80639805707284, 193.5570566034225, 346.376907554273, 379.4283736481407, 759.814706641941, -190.16916467609298, 22.179040324075153, 599.0101587258994, 951.7202904327211, 50.79713184252027, 173.40974187471377, 698.6743667081164, 84.48453257331275, 32.87761258002242, 206.2718754154841, 295.9073301847899, 529.9593961250299, 41.07164507548948, -28.343096358776283, 251.5609546569263, 848.8097095493418, 0.0032385764217622848, 135.8874905470938, 667.5455051844914, 15.486335838011007, -96.48334648352012, 93.62057938313143, 269.41670831642375, 252.84042787567697, 279.9818872829084, -121.558285840603, -12.83798155913708, 772.4367535901288, -35.23434064158146, 91.85060232466174, 663.5147176051473, -84.93388918328947, -258.1105470984447, -31.998412155203553, 229.29114599455374, 27.814127475926284, 566.514858190024, -222.81164044749374, -336.0480224044938, 686.0830918037226]}, {\"fill\": \"tonexty\", \"fillcolor\": \"rgba(0, 114, 178, 0.2)\", \"line\": {\"color\": \"#0072B2\", \"width\": 2}, \"mode\": \"lines\", \"name\": \"Predicted\", \"type\": \"scatter\", \"x\": [\"2015-01-01T00:00:00\", \"2015-02-01T00:00:00\", \"2015-03-01T00:00:00\", \"2015-04-01T00:00:00\", \"2015-05-01T00:00:00\", \"2015-06-01T00:00:00\", \"2015-07-01T00:00:00\", \"2015-08-01T00:00:00\", \"2015-09-01T00:00:00\", \"2015-10-01T00:00:00\", \"2015-11-01T00:00:00\", \"2015-12-01T00:00:00\", \"2016-01-01T00:00:00\", \"2016-02-01T00:00:00\", \"2016-03-01T00:00:00\", \"2016-04-01T00:00:00\", \"2016-05-01T00:00:00\", \"2016-06-01T00:00:00\", \"2016-07-01T00:00:00\", \"2016-08-01T00:00:00\", \"2016-09-01T00:00:00\", \"2016-10-01T00:00:00\", \"2016-11-01T00:00:00\", \"2016-12-01T00:00:00\", \"2017-01-01T00:00:00\", \"2017-02-01T00:00:00\", \"2017-03-01T00:00:00\", \"2017-04-01T00:00:00\", \"2017-05-01T00:00:00\", \"2017-06-01T00:00:00\", \"2017-07-01T00:00:00\", \"2017-08-01T00:00:00\", \"2017-09-01T00:00:00\", \"2017-10-01T00:00:00\", \"2017-11-01T00:00:00\", \"2017-12-01T00:00:00\", \"2018-01-01T00:00:00\", \"2018-02-01T00:00:00\", \"2018-03-01T00:00:00\", \"2018-04-01T00:00:00\", \"2018-05-01T00:00:00\", \"2018-06-01T00:00:00\", \"2018-07-01T00:00:00\", \"2018-08-01T00:00:00\", \"2018-09-01T00:00:00\", \"2018-10-01T00:00:00\", \"2018-11-01T00:00:00\", \"2018-12-01T00:00:00\", \"2019-01-01T00:00:00\", \"2019-02-01T00:00:00\", \"2019-03-01T00:00:00\", \"2019-04-01T00:00:00\", \"2019-05-01T00:00:00\", \"2019-06-01T00:00:00\", \"2019-07-01T00:00:00\", \"2019-08-01T00:00:00\", \"2019-09-01T00:00:00\", \"2019-10-01T00:00:00\", \"2019-11-01T00:00:00\", \"2019-12-01T00:00:00\"], \"y\": [572.4431290537403, 714.6935615712218, 1263.9693801268156, 549.2263160842326, 372.3817006244829, 594.2626168019171, 848.6429227421759, 629.6034166407344, 1174.276874803892, 398.6152050753494, 277.2833676288752, 1304.193357471247, 530.0284768651265, 676.6658477722124, 1039.7698337165623, 477.8624130204612, 472.2096241648368, 630.5032991018188, 669.938879438166, 1063.113747695715, 89.58379398425939, 326.2351345154511, 889.2656420054461, 1237.0777498413127, 343.5869201401188, 472.70899228509074, 1009.1362115326006, 396.837382605685, 332.7443972441199, 510.5146210403367, 622.5086760700857, 807.3461058070842, 342.6165144281801, 250.81127983351234, 579.861620551509, 1149.0767530558642, 296.47280405772847, 432.8728577104099, 976.9907709583179, 313.72069064492655, 192.53758073923143, 391.51230586570074, 575.1719638325466, 555.9124974599721, 597.3974336541752, 168.04372750715447, 268.8786932526221, 1064.5278959663342, 251.73537835731088, 393.986752711706, 943.2634219574584, 228.521299749323, 51.677595730250914, 273.5594537054446, 527.9406710656388, 308.9021067705978, 853.5765067353002, 77.91574842600232, -43.41514720829372, 983.4957540533011]}, {\"fill\": \"tonexty\", \"fillcolor\": \"rgba(0, 114, 178, 0.2)\", \"hoverinfo\": \"skip\", \"line\": {\"width\": 0}, \"mode\": \"lines\", \"type\": \"scatter\", \"x\": [\"2015-01-01T00:00:00\", \"2015-02-01T00:00:00\", \"2015-03-01T00:00:00\", \"2015-04-01T00:00:00\", \"2015-05-01T00:00:00\", \"2015-06-01T00:00:00\", \"2015-07-01T00:00:00\", \"2015-08-01T00:00:00\", \"2015-09-01T00:00:00\", \"2015-10-01T00:00:00\", \"2015-11-01T00:00:00\", \"2015-12-01T00:00:00\", \"2016-01-01T00:00:00\", \"2016-02-01T00:00:00\", \"2016-03-01T00:00:00\", \"2016-04-01T00:00:00\", \"2016-05-01T00:00:00\", \"2016-06-01T00:00:00\", \"2016-07-01T00:00:00\", \"2016-08-01T00:00:00\", \"2016-09-01T00:00:00\", \"2016-10-01T00:00:00\", \"2016-11-01T00:00:00\", \"2016-12-01T00:00:00\", \"2017-01-01T00:00:00\", \"2017-02-01T00:00:00\", \"2017-03-01T00:00:00\", \"2017-04-01T00:00:00\", \"2017-05-01T00:00:00\", \"2017-06-01T00:00:00\", \"2017-07-01T00:00:00\", \"2017-08-01T00:00:00\", \"2017-09-01T00:00:00\", \"2017-10-01T00:00:00\", \"2017-11-01T00:00:00\", \"2017-12-01T00:00:00\", \"2018-01-01T00:00:00\", \"2018-02-01T00:00:00\", \"2018-03-01T00:00:00\", \"2018-04-01T00:00:00\", \"2018-05-01T00:00:00\", \"2018-06-01T00:00:00\", \"2018-07-01T00:00:00\", \"2018-08-01T00:00:00\", \"2018-09-01T00:00:00\", \"2018-10-01T00:00:00\", \"2018-11-01T00:00:00\", \"2018-12-01T00:00:00\", \"2019-01-01T00:00:00\", \"2019-02-01T00:00:00\", \"2019-03-01T00:00:00\", \"2019-04-01T00:00:00\", \"2019-05-01T00:00:00\", \"2019-06-01T00:00:00\", \"2019-07-01T00:00:00\", \"2019-08-01T00:00:00\", \"2019-09-01T00:00:00\", \"2019-10-01T00:00:00\", \"2019-11-01T00:00:00\", \"2019-12-01T00:00:00\"], \"y\": [867.275553675544, 991.6574675507928, 1557.5320228330625, 872.934427674796, 653.6541373375251, 884.4939867270498, 1147.3251779995446, 916.1696832964913, 1453.5445636044908, 690.8696290963379, 580.1131369171931, 1615.6994009974621, 831.9868161920177, 967.2411225330428, 1338.2127577449512, 774.227035225497, 772.1479350420456, 937.7789666728311, 950.6956608560387, 1361.3044712830715, 384.2127544599334, 614.6890525538224, 1178.2475498116053, 1546.714010263743, 651.291498217759, 783.2399194781948, 1304.629227814347, 688.4792510584474, 622.7370577784769, 806.509269006997, 920.289250801386, 1084.4940819335684, 636.696913154836, 542.8201019728075, 869.7541392741526, 1449.14349867221, 597.5162551450958, 721.8284500215196, 1274.4388004468738, 636.2536382423056, 480.9796837752607, 694.2940893779072, 877.1813888436599, 853.1433703073774, 899.306951377974, 449.33072358895834, 558.3217077487332, 1341.8676215551482, 557.8091974321642, 702.9614671992135, 1224.094188342266, 524.7754683879026, 324.18612304497253, 576.7603640748816, 834.9921876340303, 606.0505037854064, 1155.0542572519853, 389.5012921950635, 239.1130328924645, 1280.5324678973268]}],                        {\"height\": 600, \"showlegend\": false, \"template\": {\"data\": {\"bar\": [{\"error_x\": {\"color\": \"#2a3f5f\"}, \"error_y\": {\"color\": \"#2a3f5f\"}, \"marker\": {\"line\": {\"color\": \"#E5ECF6\", \"width\": 0.5}}, \"type\": \"bar\"}], \"barpolar\": [{\"marker\": {\"line\": {\"color\": \"#E5ECF6\", \"width\": 0.5}}, \"type\": \"barpolar\"}], \"carpet\": [{\"aaxis\": {\"endlinecolor\": \"#2a3f5f\", \"gridcolor\": \"white\", \"linecolor\": \"white\", \"minorgridcolor\": \"white\", \"startlinecolor\": \"#2a3f5f\"}, \"baxis\": {\"endlinecolor\": \"#2a3f5f\", \"gridcolor\": \"white\", \"linecolor\": \"white\", \"minorgridcolor\": \"white\", \"startlinecolor\": \"#2a3f5f\"}, \"type\": \"carpet\"}], \"choropleth\": [{\"colorbar\": {\"outlinewidth\": 0, \"ticks\": \"\"}, \"type\": \"choropleth\"}], \"contour\": [{\"colorbar\": {\"outlinewidth\": 0, \"ticks\": \"\"}, \"colorscale\": [[0.0, \"#0d0887\"], [0.1111111111111111, \"#46039f\"], [0.2222222222222222, \"#7201a8\"], [0.3333333333333333, \"#9c179e\"], [0.4444444444444444, \"#bd3786\"], [0.5555555555555556, \"#d8576b\"], [0.6666666666666666, \"#ed7953\"], [0.7777777777777778, \"#fb9f3a\"], [0.8888888888888888, \"#fdca26\"], [1.0, \"#f0f921\"]], \"type\": \"contour\"}], \"contourcarpet\": [{\"colorbar\": {\"outlinewidth\": 0, \"ticks\": \"\"}, \"type\": \"contourcarpet\"}], \"heatmap\": [{\"colorbar\": {\"outlinewidth\": 0, \"ticks\": \"\"}, \"colorscale\": [[0.0, \"#0d0887\"], [0.1111111111111111, \"#46039f\"], [0.2222222222222222, \"#7201a8\"], [0.3333333333333333, \"#9c179e\"], [0.4444444444444444, \"#bd3786\"], [0.5555555555555556, \"#d8576b\"], [0.6666666666666666, \"#ed7953\"], [0.7777777777777778, \"#fb9f3a\"], [0.8888888888888888, \"#fdca26\"], [1.0, \"#f0f921\"]], \"type\": \"heatmap\"}], \"heatmapgl\": [{\"colorbar\": {\"outlinewidth\": 0, \"ticks\": \"\"}, \"colorscale\": [[0.0, \"#0d0887\"], [0.1111111111111111, \"#46039f\"], [0.2222222222222222, \"#7201a8\"], [0.3333333333333333, \"#9c179e\"], [0.4444444444444444, \"#bd3786\"], [0.5555555555555556, \"#d8576b\"], [0.6666666666666666, \"#ed7953\"], [0.7777777777777778, \"#fb9f3a\"], [0.8888888888888888, \"#fdca26\"], [1.0, \"#f0f921\"]], \"type\": \"heatmapgl\"}], \"histogram\": [{\"marker\": {\"colorbar\": {\"outlinewidth\": 0, \"ticks\": \"\"}}, \"type\": \"histogram\"}], \"histogram2d\": [{\"colorbar\": {\"outlinewidth\": 0, \"ticks\": \"\"}, \"colorscale\": [[0.0, \"#0d0887\"], [0.1111111111111111, \"#46039f\"], [0.2222222222222222, \"#7201a8\"], [0.3333333333333333, \"#9c179e\"], [0.4444444444444444, \"#bd3786\"], [0.5555555555555556, \"#d8576b\"], [0.6666666666666666, \"#ed7953\"], [0.7777777777777778, \"#fb9f3a\"], [0.8888888888888888, \"#fdca26\"], [1.0, \"#f0f921\"]], \"type\": \"histogram2d\"}], \"histogram2dcontour\": [{\"colorbar\": {\"outlinewidth\": 0, \"ticks\": \"\"}, \"colorscale\": [[0.0, \"#0d0887\"], [0.1111111111111111, \"#46039f\"], [0.2222222222222222, \"#7201a8\"], [0.3333333333333333, \"#9c179e\"], [0.4444444444444444, \"#bd3786\"], [0.5555555555555556, \"#d8576b\"], [0.6666666666666666, \"#ed7953\"], [0.7777777777777778, \"#fb9f3a\"], [0.8888888888888888, \"#fdca26\"], [1.0, \"#f0f921\"]], \"type\": \"histogram2dcontour\"}], \"mesh3d\": [{\"colorbar\": {\"outlinewidth\": 0, \"ticks\": \"\"}, \"type\": \"mesh3d\"}], \"parcoords\": [{\"line\": {\"colorbar\": {\"outlinewidth\": 0, \"ticks\": \"\"}}, \"type\": \"parcoords\"}], \"pie\": [{\"automargin\": true, \"type\": \"pie\"}], \"scatter\": [{\"marker\": {\"colorbar\": {\"outlinewidth\": 0, \"ticks\": \"\"}}, \"type\": \"scatter\"}], \"scatter3d\": [{\"line\": {\"colorbar\": {\"outlinewidth\": 0, \"ticks\": \"\"}}, \"marker\": {\"colorbar\": {\"outlinewidth\": 0, \"ticks\": \"\"}}, \"type\": \"scatter3d\"}], \"scattercarpet\": [{\"marker\": {\"colorbar\": {\"outlinewidth\": 0, \"ticks\": \"\"}}, \"type\": \"scattercarpet\"}], \"scattergeo\": [{\"marker\": {\"colorbar\": {\"outlinewidth\": 0, \"ticks\": \"\"}}, \"type\": \"scattergeo\"}], \"scattergl\": [{\"marker\": {\"colorbar\": {\"outlinewidth\": 0, \"ticks\": \"\"}}, \"type\": \"scattergl\"}], \"scattermapbox\": [{\"marker\": {\"colorbar\": {\"outlinewidth\": 0, \"ticks\": \"\"}}, \"type\": \"scattermapbox\"}], \"scatterpolar\": [{\"marker\": {\"colorbar\": {\"outlinewidth\": 0, \"ticks\": \"\"}}, \"type\": \"scatterpolar\"}], \"scatterpolargl\": [{\"marker\": {\"colorbar\": {\"outlinewidth\": 0, \"ticks\": \"\"}}, \"type\": \"scatterpolargl\"}], \"scatterternary\": [{\"marker\": {\"colorbar\": {\"outlinewidth\": 0, \"ticks\": \"\"}}, \"type\": \"scatterternary\"}], \"surface\": [{\"colorbar\": {\"outlinewidth\": 0, \"ticks\": \"\"}, \"colorscale\": [[0.0, \"#0d0887\"], [0.1111111111111111, \"#46039f\"], [0.2222222222222222, \"#7201a8\"], [0.3333333333333333, \"#9c179e\"], [0.4444444444444444, \"#bd3786\"], [0.5555555555555556, \"#d8576b\"], [0.6666666666666666, \"#ed7953\"], [0.7777777777777778, \"#fb9f3a\"], [0.8888888888888888, \"#fdca26\"], [1.0, \"#f0f921\"]], \"type\": \"surface\"}], \"table\": [{\"cells\": {\"fill\": {\"color\": \"#EBF0F8\"}, \"line\": {\"color\": \"white\"}}, \"header\": {\"fill\": {\"color\": \"#C8D4E3\"}, \"line\": {\"color\": \"white\"}}, \"type\": \"table\"}]}, \"layout\": {\"annotationdefaults\": {\"arrowcolor\": \"#2a3f5f\", \"arrowhead\": 0, \"arrowwidth\": 1}, \"autotypenumbers\": \"strict\", \"coloraxis\": {\"colorbar\": {\"outlinewidth\": 0, \"ticks\": \"\"}}, \"colorscale\": {\"diverging\": [[0, \"#8e0152\"], [0.1, \"#c51b7d\"], [0.2, \"#de77ae\"], [0.3, \"#f1b6da\"], [0.4, \"#fde0ef\"], [0.5, \"#f7f7f7\"], [0.6, \"#e6f5d0\"], [0.7, \"#b8e186\"], [0.8, \"#7fbc41\"], [0.9, \"#4d9221\"], [1, \"#276419\"]], \"sequential\": [[0.0, \"#0d0887\"], [0.1111111111111111, \"#46039f\"], [0.2222222222222222, \"#7201a8\"], [0.3333333333333333, \"#9c179e\"], [0.4444444444444444, \"#bd3786\"], [0.5555555555555556, \"#d8576b\"], [0.6666666666666666, \"#ed7953\"], [0.7777777777777778, \"#fb9f3a\"], [0.8888888888888888, \"#fdca26\"], [1.0, \"#f0f921\"]], \"sequentialminus\": [[0.0, \"#0d0887\"], [0.1111111111111111, \"#46039f\"], [0.2222222222222222, \"#7201a8\"], [0.3333333333333333, \"#9c179e\"], [0.4444444444444444, \"#bd3786\"], [0.5555555555555556, \"#d8576b\"], [0.6666666666666666, \"#ed7953\"], [0.7777777777777778, \"#fb9f3a\"], [0.8888888888888888, \"#fdca26\"], [1.0, \"#f0f921\"]]}, \"colorway\": [\"#636efa\", \"#EF553B\", \"#00cc96\", \"#ab63fa\", \"#FFA15A\", \"#19d3f3\", \"#FF6692\", \"#B6E880\", \"#FF97FF\", \"#FECB52\"], \"font\": {\"color\": \"#2a3f5f\"}, \"geo\": {\"bgcolor\": \"white\", \"lakecolor\": \"white\", \"landcolor\": \"#E5ECF6\", \"showlakes\": true, \"showland\": true, \"subunitcolor\": \"white\"}, \"hoverlabel\": {\"align\": \"left\"}, \"hovermode\": \"closest\", \"mapbox\": {\"style\": \"light\"}, \"paper_bgcolor\": \"white\", \"plot_bgcolor\": \"#E5ECF6\", \"polar\": {\"angularaxis\": {\"gridcolor\": \"white\", \"linecolor\": \"white\", \"ticks\": \"\"}, \"bgcolor\": \"#E5ECF6\", \"radialaxis\": {\"gridcolor\": \"white\", \"linecolor\": \"white\", \"ticks\": \"\"}}, \"scene\": {\"xaxis\": {\"backgroundcolor\": \"#E5ECF6\", \"gridcolor\": \"white\", \"gridwidth\": 2, \"linecolor\": \"white\", \"showbackground\": true, \"ticks\": \"\", \"zerolinecolor\": \"white\"}, \"yaxis\": {\"backgroundcolor\": \"#E5ECF6\", \"gridcolor\": \"white\", \"gridwidth\": 2, \"linecolor\": \"white\", \"showbackground\": true, \"ticks\": \"\", \"zerolinecolor\": \"white\"}, \"zaxis\": {\"backgroundcolor\": \"#E5ECF6\", \"gridcolor\": \"white\", \"gridwidth\": 2, \"linecolor\": \"white\", \"showbackground\": true, \"ticks\": \"\", \"zerolinecolor\": \"white\"}}, \"shapedefaults\": {\"line\": {\"color\": \"#2a3f5f\"}}, \"ternary\": {\"aaxis\": {\"gridcolor\": \"white\", \"linecolor\": \"white\", \"ticks\": \"\"}, \"baxis\": {\"gridcolor\": \"white\", \"linecolor\": \"white\", \"ticks\": \"\"}, \"bgcolor\": \"#E5ECF6\", \"caxis\": {\"gridcolor\": \"white\", \"linecolor\": \"white\", \"ticks\": \"\"}}, \"title\": {\"x\": 0.05}, \"xaxis\": {\"automargin\": true, \"gridcolor\": \"white\", \"linecolor\": \"white\", \"ticks\": \"\", \"title\": {\"standoff\": 15}, \"zerolinecolor\": \"white\", \"zerolinewidth\": 2}, \"yaxis\": {\"automargin\": true, \"gridcolor\": \"white\", \"linecolor\": \"white\", \"ticks\": \"\", \"title\": {\"standoff\": 15}, \"zerolinecolor\": \"white\", \"zerolinewidth\": 2}}}, \"width\": 900, \"xaxis\": {\"rangeselector\": {\"buttons\": [{\"count\": 7, \"label\": \"1w\", \"step\": \"day\", \"stepmode\": \"backward\"}, {\"count\": 1, \"label\": \"1m\", \"step\": \"month\", \"stepmode\": \"backward\"}, {\"count\": 6, \"label\": \"6m\", \"step\": \"month\", \"stepmode\": \"backward\"}, {\"count\": 1, \"label\": \"1y\", \"step\": \"year\", \"stepmode\": \"backward\"}, {\"step\": \"all\"}]}, \"rangeslider\": {\"visible\": true}, \"title\": {\"text\": \"ds\"}, \"type\": \"date\"}, \"yaxis\": {\"title\": {\"text\": \"y\"}}},                        {\"responsive\": true}                    ).then(function(){\n",
       "                            \n",
       "var gd = document.getElementById('09312637-b045-4903-925c-1264bcb61aed');\n",
       "var x = new MutationObserver(function (mutations, observer) {{\n",
       "        var display = window.getComputedStyle(gd).display;\n",
       "        if (!display || display === 'none') {{\n",
       "            console.log([gd, 'removed!']);\n",
       "            Plotly.purge(gd);\n",
       "            observer.disconnect();\n",
       "        }}\n",
       "}});\n",
       "\n",
       "// Listen for the removal of the full notebook cells\n",
       "var notebookContainer = gd.closest('#notebook-container');\n",
       "if (notebookContainer) {{\n",
       "    x.observe(notebookContainer, {childList: true});\n",
       "}}\n",
       "\n",
       "// Listen for the clearing of the current output cell\n",
       "var outputEl = gd.closest('.output');\n",
       "if (outputEl) {{\n",
       "    x.observe(outputEl, {childList: true});\n",
       "}}\n",
       "\n",
       "                        })                };                });            </script>        </div>"
      ]
     },
     "metadata": {},
     "output_type": "display_data"
    }
   ],
   "source": [
    "from fbprophet.plot import plot_plotly, plot_components_plotly\n",
    "\n",
    "plot_plotly(m, forecast)"
   ]
  },
  {
   "cell_type": "code",
   "execution_count": 152,
   "metadata": {},
   "outputs": [
    {
     "data": {
      "application/vnd.plotly.v1+json": {
       "config": {
        "plotlyServerURL": "https://plot.ly"
       },
       "data": [
        {
         "line": {
          "color": "#0072B2",
          "width": 2
         },
         "mode": "lines",
         "name": "trend",
         "type": "scatter",
         "x": [
          "2015-01-01T00:00:00",
          "2015-02-01T00:00:00",
          "2015-03-01T00:00:00",
          "2015-04-01T00:00:00",
          "2015-05-01T00:00:00",
          "2015-06-01T00:00:00",
          "2015-07-01T00:00:00",
          "2015-08-01T00:00:00",
          "2015-09-01T00:00:00",
          "2015-10-01T00:00:00",
          "2015-11-01T00:00:00",
          "2015-12-01T00:00:00",
          "2016-01-01T00:00:00",
          "2016-02-01T00:00:00",
          "2016-03-01T00:00:00",
          "2016-04-01T00:00:00",
          "2016-05-01T00:00:00",
          "2016-06-01T00:00:00",
          "2016-07-01T00:00:00",
          "2016-08-01T00:00:00",
          "2016-09-01T00:00:00",
          "2016-10-01T00:00:00",
          "2016-11-01T00:00:00",
          "2016-12-01T00:00:00",
          "2017-01-01T00:00:00",
          "2017-02-01T00:00:00",
          "2017-03-01T00:00:00",
          "2017-04-01T00:00:00",
          "2017-05-01T00:00:00",
          "2017-06-01T00:00:00",
          "2017-07-01T00:00:00",
          "2017-08-01T00:00:00",
          "2017-09-01T00:00:00",
          "2017-10-01T00:00:00",
          "2017-11-01T00:00:00",
          "2017-12-01T00:00:00",
          "2018-01-01T00:00:00",
          "2018-02-01T00:00:00",
          "2018-03-01T00:00:00",
          "2018-04-01T00:00:00",
          "2018-05-01T00:00:00",
          "2018-06-01T00:00:00",
          "2018-07-01T00:00:00",
          "2018-08-01T00:00:00",
          "2018-09-01T00:00:00",
          "2018-10-01T00:00:00",
          "2018-11-01T00:00:00",
          "2018-12-01T00:00:00",
          "2019-01-01T00:00:00",
          "2019-02-01T00:00:00",
          "2019-03-01T00:00:00",
          "2019-04-01T00:00:00",
          "2019-05-01T00:00:00",
          "2019-06-01T00:00:00",
          "2019-07-01T00:00:00",
          "2019-08-01T00:00:00",
          "2019-09-01T00:00:00",
          "2019-10-01T00:00:00",
          "2019-11-01T00:00:00",
          "2019-12-01T00:00:00"
         ],
         "xaxis": "x",
         "y": [
          805.8513189313735,
          799.0457251057846,
          792.8987371364219,
          786.093143313199,
          779.5070847876713,
          772.7014909993327,
          766.1154324944889,
          759.3098386972349,
          752.504244908531,
          745.9181864033335,
          739.112592602068,
          732.5265340969618,
          725.7209403083519,
          718.9162884349753,
          712.5506463459029,
          705.7459944575842,
          699.1608474555497,
          692.356195552692,
          685.7710485499265,
          678.9663966657179,
          672.1617447662142,
          665.5765977666945,
          658.7719458507422,
          652.186798815373,
          645.3821468788249,
          638.5774949309422,
          632.4313576715412,
          625.6267057057756,
          619.041558664529,
          612.2369067142583,
          605.6517596656093,
          598.847107698344,
          592.0424557463917,
          585.4573086961153,
          578.6526567540957,
          572.0675097079823,
          565.2628577603316,
          558.4582057922014,
          552.3120685120164,
          545.5074165232402,
          538.9222694373276,
          532.1176174485513,
          525.5324703626388,
          518.7278183738624,
          511.9231663850861,
          505.3380192991736,
          498.53336731039735,
          491.94822022448477,
          485.1435682357085,
          478.3389162469322,
          472.1927789667472,
          465.3881269779709,
          458.80297989205826,
          451.9983279032821,
          445.41318081736944,
          438.60852882859325,
          431.8038768398169,
          425.21872975390437,
          418.41407776512807,
          411.82893067921555
         ],
         "yaxis": "y"
        },
        {
         "line": {
          "color": "rgba(0, 114, 178, 0.2)",
          "width": 0
         },
         "mode": "lines",
         "name": "trend_upper",
         "type": "scatter",
         "x": [
          "2015-01-01T00:00:00",
          "2015-02-01T00:00:00",
          "2015-03-01T00:00:00",
          "2015-04-01T00:00:00",
          "2015-05-01T00:00:00",
          "2015-06-01T00:00:00",
          "2015-07-01T00:00:00",
          "2015-08-01T00:00:00",
          "2015-09-01T00:00:00",
          "2015-10-01T00:00:00",
          "2015-11-01T00:00:00",
          "2015-12-01T00:00:00",
          "2016-01-01T00:00:00",
          "2016-02-01T00:00:00",
          "2016-03-01T00:00:00",
          "2016-04-01T00:00:00",
          "2016-05-01T00:00:00",
          "2016-06-01T00:00:00",
          "2016-07-01T00:00:00",
          "2016-08-01T00:00:00",
          "2016-09-01T00:00:00",
          "2016-10-01T00:00:00",
          "2016-11-01T00:00:00",
          "2016-12-01T00:00:00",
          "2017-01-01T00:00:00",
          "2017-02-01T00:00:00",
          "2017-03-01T00:00:00",
          "2017-04-01T00:00:00",
          "2017-05-01T00:00:00",
          "2017-06-01T00:00:00",
          "2017-07-01T00:00:00",
          "2017-08-01T00:00:00",
          "2017-09-01T00:00:00",
          "2017-10-01T00:00:00",
          "2017-11-01T00:00:00",
          "2017-12-01T00:00:00",
          "2018-01-01T00:00:00",
          "2018-02-01T00:00:00",
          "2018-03-01T00:00:00",
          "2018-04-01T00:00:00",
          "2018-05-01T00:00:00",
          "2018-06-01T00:00:00",
          "2018-07-01T00:00:00",
          "2018-08-01T00:00:00",
          "2018-09-01T00:00:00",
          "2018-10-01T00:00:00",
          "2018-11-01T00:00:00",
          "2018-12-01T00:00:00",
          "2019-01-01T00:00:00",
          "2019-02-01T00:00:00",
          "2019-03-01T00:00:00",
          "2019-04-01T00:00:00",
          "2019-05-01T00:00:00",
          "2019-06-01T00:00:00",
          "2019-07-01T00:00:00",
          "2019-08-01T00:00:00",
          "2019-09-01T00:00:00",
          "2019-10-01T00:00:00",
          "2019-11-01T00:00:00",
          "2019-12-01T00:00:00"
         ],
         "xaxis": "x",
         "y": [
          805.8513189313735,
          799.0457251057846,
          792.8987371364219,
          786.0931433131989,
          779.5070847876713,
          772.7014909993327,
          766.1154324944889,
          759.3098386972349,
          752.504244908531,
          745.9181864033335,
          739.112592602068,
          732.5265340969618,
          725.720940308352,
          718.9162884349753,
          712.5506463459029,
          705.7459944575842,
          699.1608474555497,
          692.356195552692,
          685.7710485499265,
          678.9663966657179,
          672.161744766214,
          665.5765977666945,
          658.7719458507422,
          652.186798815373,
          645.3821468788249,
          638.5774949309422,
          632.4313576715412,
          625.6267057057756,
          619.041558664529,
          612.2369067142583,
          605.6517596656093,
          598.847107698344,
          592.0424557463917,
          585.4573086961153,
          578.6526567540957,
          572.0675097079823,
          565.2628577603316,
          558.4582057922014,
          552.3120685120164,
          545.5074165232402,
          538.9222694373276,
          532.1176174485513,
          525.5324703626388,
          518.7278183738624,
          511.9231663850861,
          505.3380192991736,
          498.53336731039735,
          491.94822022448477,
          485.14358121063503,
          478.33897926546564,
          472.1929055604847,
          465.38832548018803,
          458.80325025318916,
          451.99868269471426,
          445.41363422173396,
          438.60910063094644,
          431.8045753605341,
          425.21955467860613,
          418.41505169072445,
          411.8300623597108
         ],
         "yaxis": "y"
        },
        {
         "fill": "tonexty",
         "fillcolor": "rgba(0, 114, 178, 0.2)",
         "line": {
          "color": "rgba(0, 114, 178, 0.2)",
          "width": 0
         },
         "mode": "lines",
         "name": "trend_lower",
         "type": "scatter",
         "x": [
          "2015-01-01T00:00:00",
          "2015-02-01T00:00:00",
          "2015-03-01T00:00:00",
          "2015-04-01T00:00:00",
          "2015-05-01T00:00:00",
          "2015-06-01T00:00:00",
          "2015-07-01T00:00:00",
          "2015-08-01T00:00:00",
          "2015-09-01T00:00:00",
          "2015-10-01T00:00:00",
          "2015-11-01T00:00:00",
          "2015-12-01T00:00:00",
          "2016-01-01T00:00:00",
          "2016-02-01T00:00:00",
          "2016-03-01T00:00:00",
          "2016-04-01T00:00:00",
          "2016-05-01T00:00:00",
          "2016-06-01T00:00:00",
          "2016-07-01T00:00:00",
          "2016-08-01T00:00:00",
          "2016-09-01T00:00:00",
          "2016-10-01T00:00:00",
          "2016-11-01T00:00:00",
          "2016-12-01T00:00:00",
          "2017-01-01T00:00:00",
          "2017-02-01T00:00:00",
          "2017-03-01T00:00:00",
          "2017-04-01T00:00:00",
          "2017-05-01T00:00:00",
          "2017-06-01T00:00:00",
          "2017-07-01T00:00:00",
          "2017-08-01T00:00:00",
          "2017-09-01T00:00:00",
          "2017-10-01T00:00:00",
          "2017-11-01T00:00:00",
          "2017-12-01T00:00:00",
          "2018-01-01T00:00:00",
          "2018-02-01T00:00:00",
          "2018-03-01T00:00:00",
          "2018-04-01T00:00:00",
          "2018-05-01T00:00:00",
          "2018-06-01T00:00:00",
          "2018-07-01T00:00:00",
          "2018-08-01T00:00:00",
          "2018-09-01T00:00:00",
          "2018-10-01T00:00:00",
          "2018-11-01T00:00:00",
          "2018-12-01T00:00:00",
          "2019-01-01T00:00:00",
          "2019-02-01T00:00:00",
          "2019-03-01T00:00:00",
          "2019-04-01T00:00:00",
          "2019-05-01T00:00:00",
          "2019-06-01T00:00:00",
          "2019-07-01T00:00:00",
          "2019-08-01T00:00:00",
          "2019-09-01T00:00:00",
          "2019-10-01T00:00:00",
          "2019-11-01T00:00:00",
          "2019-12-01T00:00:00"
         ],
         "xaxis": "x",
         "y": [
          805.8513189313735,
          799.0457251057846,
          792.8987371364219,
          786.0931433131989,
          779.5070847876713,
          772.7014909993327,
          766.1154324944889,
          759.3098386972349,
          752.504244908531,
          745.9181864033335,
          739.112592602068,
          732.5265340969618,
          725.720940308352,
          718.9162884349753,
          712.5506463459029,
          705.7459944575842,
          699.1608474555497,
          692.356195552692,
          685.7710485499265,
          678.9663966657179,
          672.161744766214,
          665.5765977666945,
          658.7719458507422,
          652.186798815373,
          645.3821468788249,
          638.5774949309422,
          632.4313576715412,
          625.6267057057756,
          619.041558664529,
          612.2369067142583,
          605.6517596656093,
          598.847107698344,
          592.0424557463917,
          585.4573086961153,
          578.6526567540957,
          572.0675097079823,
          565.2628577603316,
          558.4582057922014,
          552.3120685120164,
          545.5074165232402,
          538.9222694373276,
          532.1176174485513,
          525.5324703626388,
          518.7278183738624,
          511.9231663850861,
          505.3380192991736,
          498.53336731039735,
          491.94822022448477,
          485.1435524442511,
          478.33885632963023,
          472.1926578646054,
          465.38791647126624,
          458.8026874641956,
          451.99793542480074,
          445.4126688883055,
          438.6079137442953,
          431.80314510125487,
          425.21788047015394,
          418.41309730405527,
          411.82781585304394
         ],
         "yaxis": "y"
        },
        {
         "line": {
          "color": "#0072B2",
          "width": 2
         },
         "mode": "lines",
         "name": "yearly",
         "type": "scatter",
         "x": [
          "2017-01-01T00:00:00",
          "2017-01-02T00:00:59.178082",
          "2017-01-03T00:01:58.356164",
          "2017-01-04T00:02:57.534246",
          "2017-01-05T00:03:56.712328",
          "2017-01-06T00:04:55.890411",
          "2017-01-07T00:05:55.068493",
          "2017-01-08T00:06:54.246575",
          "2017-01-09T00:07:53.424657",
          "2017-01-10T00:08:52.602739",
          "2017-01-11T00:09:51.780822",
          "2017-01-12T00:10:50.958904",
          "2017-01-13T00:11:50.136986",
          "2017-01-14T00:12:49.315068",
          "2017-01-15T00:13:48.493150",
          "2017-01-16T00:14:47.671232",
          "2017-01-17T00:15:46.849315",
          "2017-01-18T00:16:46.027397",
          "2017-01-19T00:17:45.205479",
          "2017-01-20T00:18:44.383561",
          "2017-01-21T00:19:43.561643",
          "2017-01-22T00:20:42.739726",
          "2017-01-23T00:21:41.917808",
          "2017-01-24T00:22:41.095890",
          "2017-01-25T00:23:40.273972",
          "2017-01-26T00:24:39.452054",
          "2017-01-27T00:25:38.630137",
          "2017-01-28T00:26:37.808219",
          "2017-01-29T00:27:36.986301",
          "2017-01-30T00:28:36.164383",
          "2017-01-31T00:29:35.342465",
          "2017-02-01T00:30:34.520547",
          "2017-02-02T00:31:33.698630",
          "2017-02-03T00:32:32.876712",
          "2017-02-04T00:33:32.054794",
          "2017-02-05T00:34:31.232876",
          "2017-02-06T00:35:30.410958",
          "2017-02-07T00:36:29.589041",
          "2017-02-08T00:37:28.767123",
          "2017-02-09T00:38:27.945205",
          "2017-02-10T00:39:27.123287",
          "2017-02-11T00:40:26.301369",
          "2017-02-12T00:41:25.479452",
          "2017-02-13T00:42:24.657534",
          "2017-02-14T00:43:23.835616",
          "2017-02-15T00:44:23.013698",
          "2017-02-16T00:45:22.191780",
          "2017-02-17T00:46:21.369862",
          "2017-02-18T00:47:20.547945",
          "2017-02-19T00:48:19.726027",
          "2017-02-20T00:49:18.904109",
          "2017-02-21T00:50:18.082191",
          "2017-02-22T00:51:17.260273",
          "2017-02-23T00:52:16.438356",
          "2017-02-24T00:53:15.616438",
          "2017-02-25T00:54:14.794520",
          "2017-02-26T00:55:13.972602",
          "2017-02-27T00:56:13.150684",
          "2017-02-28T00:57:12.328767",
          "2017-03-01T00:58:11.506849",
          "2017-03-02T00:59:10.684931",
          "2017-03-03T01:00:09.863013",
          "2017-03-04T01:01:09.041095",
          "2017-03-05T01:02:08.219177",
          "2017-03-06T01:03:07.397260",
          "2017-03-07T01:04:06.575342",
          "2017-03-08T01:05:05.753424",
          "2017-03-09T01:06:04.931506",
          "2017-03-10T01:07:04.109588",
          "2017-03-11T01:08:03.287671",
          "2017-03-12T01:09:02.465753",
          "2017-03-13T01:10:01.643835",
          "2017-03-14T01:11:00.821917",
          "2017-03-15T01:12:00",
          "2017-03-16T01:12:59.178082",
          "2017-03-17T01:13:58.356164",
          "2017-03-18T01:14:57.534246",
          "2017-03-19T01:15:56.712328",
          "2017-03-20T01:16:55.890411",
          "2017-03-21T01:17:55.068493",
          "2017-03-22T01:18:54.246575",
          "2017-03-23T01:19:53.424657",
          "2017-03-24T01:20:52.602739",
          "2017-03-25T01:21:51.780822",
          "2017-03-26T01:22:50.958904",
          "2017-03-27T01:23:50.136986",
          "2017-03-28T01:24:49.315068",
          "2017-03-29T01:25:48.493150",
          "2017-03-30T01:26:47.671232",
          "2017-03-31T01:27:46.849315",
          "2017-04-01T01:28:46.027397",
          "2017-04-02T01:29:45.205479",
          "2017-04-03T01:30:44.383561",
          "2017-04-04T01:31:43.561643",
          "2017-04-05T01:32:42.739726",
          "2017-04-06T01:33:41.917808",
          "2017-04-07T01:34:41.095890",
          "2017-04-08T01:35:40.273972",
          "2017-04-09T01:36:39.452054",
          "2017-04-10T01:37:38.630137",
          "2017-04-11T01:38:37.808219",
          "2017-04-12T01:39:36.986301",
          "2017-04-13T01:40:36.164383",
          "2017-04-14T01:41:35.342465",
          "2017-04-15T01:42:34.520547",
          "2017-04-16T01:43:33.698630",
          "2017-04-17T01:44:32.876712",
          "2017-04-18T01:45:32.054794",
          "2017-04-19T01:46:31.232876",
          "2017-04-20T01:47:30.410958",
          "2017-04-21T01:48:29.589041",
          "2017-04-22T01:49:28.767123",
          "2017-04-23T01:50:27.945205",
          "2017-04-24T01:51:27.123287",
          "2017-04-25T01:52:26.301369",
          "2017-04-26T01:53:25.479452",
          "2017-04-27T01:54:24.657534",
          "2017-04-28T01:55:23.835616",
          "2017-04-29T01:56:23.013698",
          "2017-04-30T01:57:22.191780",
          "2017-05-01T01:58:21.369862",
          "2017-05-02T01:59:20.547945",
          "2017-05-03T02:00:19.726027",
          "2017-05-04T02:01:18.904109",
          "2017-05-05T02:02:18.082191",
          "2017-05-06T02:03:17.260273",
          "2017-05-07T02:04:16.438356",
          "2017-05-08T02:05:15.616438",
          "2017-05-09T02:06:14.794520",
          "2017-05-10T02:07:13.972602",
          "2017-05-11T02:08:13.150684",
          "2017-05-12T02:09:12.328767",
          "2017-05-13T02:10:11.506849",
          "2017-05-14T02:11:10.684931",
          "2017-05-15T02:12:09.863013",
          "2017-05-16T02:13:09.041095",
          "2017-05-17T02:14:08.219177",
          "2017-05-18T02:15:07.397260",
          "2017-05-19T02:16:06.575342",
          "2017-05-20T02:17:05.753424",
          "2017-05-21T02:18:04.931506",
          "2017-05-22T02:19:04.109588",
          "2017-05-23T02:20:03.287671",
          "2017-05-24T02:21:02.465753",
          "2017-05-25T02:22:01.643835",
          "2017-05-26T02:23:00.821917",
          "2017-05-27T02:24:00",
          "2017-05-28T02:24:59.178082",
          "2017-05-29T02:25:58.356164",
          "2017-05-30T02:26:57.534246",
          "2017-05-31T02:27:56.712328",
          "2017-06-01T02:28:55.890411",
          "2017-06-02T02:29:55.068493",
          "2017-06-03T02:30:54.246575",
          "2017-06-04T02:31:53.424657",
          "2017-06-05T02:32:52.602739",
          "2017-06-06T02:33:51.780822",
          "2017-06-07T02:34:50.958904",
          "2017-06-08T02:35:50.136986",
          "2017-06-09T02:36:49.315068",
          "2017-06-10T02:37:48.493150",
          "2017-06-11T02:38:47.671232",
          "2017-06-12T02:39:46.849315",
          "2017-06-13T02:40:46.027397",
          "2017-06-14T02:41:45.205479",
          "2017-06-15T02:42:44.383561",
          "2017-06-16T02:43:43.561643",
          "2017-06-17T02:44:42.739726",
          "2017-06-18T02:45:41.917808",
          "2017-06-19T02:46:41.095890",
          "2017-06-20T02:47:40.273972",
          "2017-06-21T02:48:39.452054",
          "2017-06-22T02:49:38.630137",
          "2017-06-23T02:50:37.808219",
          "2017-06-24T02:51:36.986301",
          "2017-06-25T02:52:36.164383",
          "2017-06-26T02:53:35.342465",
          "2017-06-27T02:54:34.520547",
          "2017-06-28T02:55:33.698630",
          "2017-06-29T02:56:32.876712",
          "2017-06-30T02:57:32.054794",
          "2017-07-01T02:58:31.232876",
          "2017-07-02T02:59:30.410958",
          "2017-07-03T03:00:29.589041",
          "2017-07-04T03:01:28.767123",
          "2017-07-05T03:02:27.945205",
          "2017-07-06T03:03:27.123287",
          "2017-07-07T03:04:26.301369",
          "2017-07-08T03:05:25.479452",
          "2017-07-09T03:06:24.657534",
          "2017-07-10T03:07:23.835616",
          "2017-07-11T03:08:23.013698",
          "2017-07-12T03:09:22.191780",
          "2017-07-13T03:10:21.369862",
          "2017-07-14T03:11:20.547945",
          "2017-07-15T03:12:19.726027",
          "2017-07-16T03:13:18.904109",
          "2017-07-17T03:14:18.082191",
          "2017-07-18T03:15:17.260273",
          "2017-07-19T03:16:16.438356",
          "2017-07-20T03:17:15.616438",
          "2017-07-21T03:18:14.794520",
          "2017-07-22T03:19:13.972602",
          "2017-07-23T03:20:13.150684",
          "2017-07-24T03:21:12.328767",
          "2017-07-25T03:22:11.506849",
          "2017-07-26T03:23:10.684931",
          "2017-07-27T03:24:09.863013",
          "2017-07-28T03:25:09.041095",
          "2017-07-29T03:26:08.219177",
          "2017-07-30T03:27:07.397260",
          "2017-07-31T03:28:06.575342",
          "2017-08-01T03:29:05.753424",
          "2017-08-02T03:30:04.931506",
          "2017-08-03T03:31:04.109588",
          "2017-08-04T03:32:03.287671",
          "2017-08-05T03:33:02.465753",
          "2017-08-06T03:34:01.643835",
          "2017-08-07T03:35:00.821917",
          "2017-08-08T03:36:00",
          "2017-08-09T03:36:59.178082",
          "2017-08-10T03:37:58.356164",
          "2017-08-11T03:38:57.534246",
          "2017-08-12T03:39:56.712328",
          "2017-08-13T03:40:55.890411",
          "2017-08-14T03:41:55.068493",
          "2017-08-15T03:42:54.246575",
          "2017-08-16T03:43:53.424657",
          "2017-08-17T03:44:52.602739",
          "2017-08-18T03:45:51.780822",
          "2017-08-19T03:46:50.958904",
          "2017-08-20T03:47:50.136986",
          "2017-08-21T03:48:49.315068",
          "2017-08-22T03:49:48.493150",
          "2017-08-23T03:50:47.671232",
          "2017-08-24T03:51:46.849315",
          "2017-08-25T03:52:46.027397",
          "2017-08-26T03:53:45.205479",
          "2017-08-27T03:54:44.383561",
          "2017-08-28T03:55:43.561643",
          "2017-08-29T03:56:42.739726",
          "2017-08-30T03:57:41.917808",
          "2017-08-31T03:58:41.095890",
          "2017-09-01T03:59:40.273972",
          "2017-09-02T04:00:39.452054",
          "2017-09-03T04:01:38.630137",
          "2017-09-04T04:02:37.808219",
          "2017-09-05T04:03:36.986301",
          "2017-09-06T04:04:36.164383",
          "2017-09-07T04:05:35.342465",
          "2017-09-08T04:06:34.520547",
          "2017-09-09T04:07:33.698630",
          "2017-09-10T04:08:32.876712",
          "2017-09-11T04:09:32.054794",
          "2017-09-12T04:10:31.232876",
          "2017-09-13T04:11:30.410958",
          "2017-09-14T04:12:29.589041",
          "2017-09-15T04:13:28.767123",
          "2017-09-16T04:14:27.945205",
          "2017-09-17T04:15:27.123287",
          "2017-09-18T04:16:26.301369",
          "2017-09-19T04:17:25.479452",
          "2017-09-20T04:18:24.657534",
          "2017-09-21T04:19:23.835616",
          "2017-09-22T04:20:23.013698",
          "2017-09-23T04:21:22.191780",
          "2017-09-24T04:22:21.369862",
          "2017-09-25T04:23:20.547945",
          "2017-09-26T04:24:19.726027",
          "2017-09-27T04:25:18.904109",
          "2017-09-28T04:26:18.082191",
          "2017-09-29T04:27:17.260273",
          "2017-09-30T04:28:16.438356",
          "2017-10-01T04:29:15.616438",
          "2017-10-02T04:30:14.794520",
          "2017-10-03T04:31:13.972602",
          "2017-10-04T04:32:13.150684",
          "2017-10-05T04:33:12.328767",
          "2017-10-06T04:34:11.506849",
          "2017-10-07T04:35:10.684931",
          "2017-10-08T04:36:09.863013",
          "2017-10-09T04:37:09.041095",
          "2017-10-10T04:38:08.219177",
          "2017-10-11T04:39:07.397260",
          "2017-10-12T04:40:06.575342",
          "2017-10-13T04:41:05.753424",
          "2017-10-14T04:42:04.931506",
          "2017-10-15T04:43:04.109588",
          "2017-10-16T04:44:03.287671",
          "2017-10-17T04:45:02.465753",
          "2017-10-18T04:46:01.643835",
          "2017-10-19T04:47:00.821917",
          "2017-10-20T04:48:00",
          "2017-10-21T04:48:59.178082",
          "2017-10-22T04:49:58.356164",
          "2017-10-23T04:50:57.534246",
          "2017-10-24T04:51:56.712328",
          "2017-10-25T04:52:55.890411",
          "2017-10-26T04:53:55.068493",
          "2017-10-27T04:54:54.246575",
          "2017-10-28T04:55:53.424657",
          "2017-10-29T04:56:52.602739",
          "2017-10-30T04:57:51.780822",
          "2017-10-31T04:58:50.958904",
          "2017-11-01T04:59:50.136986",
          "2017-11-02T05:00:49.315068",
          "2017-11-03T05:01:48.493150",
          "2017-11-04T05:02:47.671232",
          "2017-11-05T05:03:46.849315",
          "2017-11-06T05:04:46.027397",
          "2017-11-07T05:05:45.205479",
          "2017-11-08T05:06:44.383561",
          "2017-11-09T05:07:43.561643",
          "2017-11-10T05:08:42.739726",
          "2017-11-11T05:09:41.917808",
          "2017-11-12T05:10:41.095890",
          "2017-11-13T05:11:40.273972",
          "2017-11-14T05:12:39.452054",
          "2017-11-15T05:13:38.630137",
          "2017-11-16T05:14:37.808219",
          "2017-11-17T05:15:36.986301",
          "2017-11-18T05:16:36.164383",
          "2017-11-19T05:17:35.342465",
          "2017-11-20T05:18:34.520547",
          "2017-11-21T05:19:33.698630",
          "2017-11-22T05:20:32.876712",
          "2017-11-23T05:21:32.054794",
          "2017-11-24T05:22:31.232876",
          "2017-11-25T05:23:30.410958",
          "2017-11-26T05:24:29.589041",
          "2017-11-27T05:25:28.767123",
          "2017-11-28T05:26:27.945205",
          "2017-11-29T05:27:27.123287",
          "2017-11-30T05:28:26.301369",
          "2017-12-01T05:29:25.479452",
          "2017-12-02T05:30:24.657534",
          "2017-12-03T05:31:23.835616",
          "2017-12-04T05:32:23.013698",
          "2017-12-05T05:33:22.191780",
          "2017-12-06T05:34:21.369862",
          "2017-12-07T05:35:20.547945",
          "2017-12-08T05:36:19.726027",
          "2017-12-09T05:37:18.904109",
          "2017-12-10T05:38:18.082191",
          "2017-12-11T05:39:17.260273",
          "2017-12-12T05:40:16.438356",
          "2017-12-13T05:41:15.616438",
          "2017-12-14T05:42:14.794520",
          "2017-12-15T05:43:13.972602",
          "2017-12-16T05:44:13.150684",
          "2017-12-17T05:45:12.328767",
          "2017-12-18T05:46:11.506849",
          "2017-12-19T05:47:10.684931",
          "2017-12-20T05:48:09.863013",
          "2017-12-21T05:49:09.041095",
          "2017-12-22T05:50:08.219177",
          "2017-12-23T05:51:07.397260",
          "2017-12-24T05:52:06.575342",
          "2017-12-25T05:53:05.753424",
          "2017-12-26T05:54:04.931506",
          "2017-12-27T05:55:04.109588",
          "2017-12-28T05:56:03.287671",
          "2017-12-29T05:57:02.465753",
          "2017-12-30T05:58:01.643835",
          "2017-12-31T05:59:00.821917"
         ],
         "xaxis": "x2",
         "y": [
          -301.79522673870605,
          -409.4214073198484,
          -476.8041073079303,
          -503.5606906375136,
          -490.56874487001875,
          -439.9176860339348,
          -354.82335228319914,
          -239.50875454859005,
          -99.05514834518262,
          60.771551951245016,
          233.7133007631345,
          413.22516326124384,
          592.686727881487,
          765.6130327002602,
          925.8584408944673,
          1067.8071920821517,
          1186.5448370361858,
          1278.005416423031,
          1339.0900484931717,
          1367.7535199890779,
          1363.0564996672779,
          1325.1820824801,
          1255.4164909985966,
          1156.0948745911496,
          1030.514222346087,
          882.8164100405901,
          717.845304662666,
          540.9826250922785,
          357.96788196077495,
          174.70817532880545,
          -2.916097055809476,
          -169.24348258469865,
          -319.01563367746473,
          -447.54764058944033,
          -550.8792581304782,
          -625.9023724261143,
          -670.4608189444891,
          -683.4195435095045,
          -664.701066576957,
          -615.2882371666753,
          -537.1933150057226,
          -433.39446503657234,
          -307.74175564361394,
          -164.8356899012745,
          -9.882139535472733,
          151.47173114737902,
          313.3153909727959,
          469.66114481973506,
          614.6328025303702,
          742.6509434291211,
          848.6090278468781,
          928.0349050246322,
          977.232731431192,
          993.4009297933354,
          974.7225677545725,
          920.4253925219732,
          830.8096976852111,
          707.2431914277993,
          552.1230511879335,
          368.8063572472135,
          161.51106599480363,
          -64.80941657021154,
          -304.6141968487001,
          -551.940843047572,
          -800.5842308914353,
          -1044.2828082690116,
          -1276.906583410524,
          -1492.6410974731502,
          -1686.1617740195707,
          -1852.793340216244,
          -1988.649478021259,
          -2090.748473793497,
          -2157.1013724624995,
          -2186.7699850697077,
          -2179.8930201469616,
          -2137.6795817999387,
          -2062.3702708147566,
          -1957.1671093987547,
          -1826.1344553072618,
          -1674.073948515749,
          -1506.3773168049022,
          -1328.8615319347464,
          -1147.5913357266595,
          -968.6945294975678,
          -798.1756299841718,
          -641.7335342034253,
          -504.5887037085228,
          -391.325079975732,
          -305.7514865641799,
          -250.7866744952168,
          -228.37144348809156,
          -239.41044555326997,
          -283.74537431481207,
          -360.1602908197273,
          -466.4188635758421,
          -599.3323366961074,
          -754.8561144471649,
          -928.2119912818472,
          -1114.032289339038,
          -1306.5215135031663,
          -1499.6306168903134,
          -1687.2386022632913,
          -1863.3359782502098,
          -2022.204549062573,
          -2158.588143322786,
          -2267.849177522016,
          -2346.106392933013,
          -2390.3496878408387,
          -2398.528671415935,
          -2369.612369748528,
          -2303.6183937272035,
          -2201.6108056471176,
          -2065.666868281908,
          -1898.8137979070204,
          -1704.9375428517799,
          -1488.6664444523662,
          -1255.2333824112034,
          -1010.3206395403879,
          -759.8922224138514,
          -510.01873013156836,
          -266.70006285221194,
          -35.691299320395416,
          177.6630516831105,
          368.58150346666287,
          532.9802550909612,
          667.5861398642724,
          770.0246139085788,
          838.8803173422618,
          873.728588949946,
          875.1372082437131,
          844.6385489248131,
          784.6732268487355,
          698.507185951543,
          590.1249611627236,
          464.1025635098881,
          325.4640282879807,
          179.5261343806799,
          31.736127665248194,
          -112.49254536304697,
          -247.94147073051644,
          -369.7405829915833,
          -473.50897028955586,
          -555.4790057963745,
          -612.6002008839653,
          -642.6198421608046,
          -644.1382286320844,
          -616.6371423112724,
          -560.4810399126227,
          -476.8913171839249,
          -367.89484394552125,
          -236.24876994433475,
          -85.34433386172832,
          80.90695254986352,
          258.20084683296096,
          441.977348946977,
          627.5625540569594,
          810.3107278019613,
          985.7419933323142,
          1149.671216436239,
          1298.3240159845734,
          1428.436300155284,
          1537.3343191359695,
          1622.9929124482105,
          1684.070391309233,
          1719.9193083691398,
          1730.5732019468733,
          1716.7102319866758,
          1679.595422819076,
          1621.0039668095906,
          1543.128698318695,
          1448.4753969369904,
          1339.7500036490121,
          1219.7421187131656,
          1091.2092850151855,
          956.7665397902879,
          818.785540599409,
          679.3072424199129,
          539.9716315562995,
          401.96742301312776,
          266.0039194382393,
          132.30643447442182,
          0.6358267027691824,
          -129.66819977683906,
          -259.62126629143194,
          -390.50806868823906,
          -523.778624377103,
          -660.9306668218371,
          -803.3824574436985,
          -952.3407730498403,
          -1108.6691641933564,
          -1272.7617515045881,
          -1444.4278240071635,
          -1622.7923215941871,
          -1806.2169249939516,
          -1992.2459481502246,
          -2177.580542713296,
          -2358.083900629197,
          -2528.819201393428,
          -2684.1210224259476,
          -2817.6998446379444,
          -2922.7781733572047,
          -2992.255691833848,
          -3018.8998052106454,
          -2995.5569515481143,
          -2915.3791857647293,
          -2772.0598121579364,
          -2560.0712778913276,
          -2274.8981653353903,
          -1913.2579520113038,
          -1473.302254073808,
          -954.7915371497974,
          -359.2367651911844,
          309.99784495801674,
          1047.635902986448,
          1846.4776315280058,
          2697.4390181235904,
          3589.64266087682,
          4510.560225318199,
          5446.204977690407,
          6381.3714071488175,
          7299.91753744597,
          8185.084199550183,
          9019.844329538992,
          9787.274308813125,
          10470.93850917117,
          11055.277572185385,
          11525.99056346924,
          11870.40101404165,
          12077.797002316229,
          12139.73584307688,
          12050.304628396063,
          11806.328796317724,
          11407.522065812556,
          10856.572443400833,
          10159.16054439746,
          9323.908141151585,
          8362.25660868508,
          7288.276738590869,
          6118.413186833092,
          4871.168561504166,
          3566.733794806304,
          2226.5729337985863,
          872.9717845697728,
          -471.4390831437219,
          -1784.175651414939,
          -3043.3942420772446,
          -4228.375704900479,
          -5319.98802029495,
          -6301.115732006892,
          -7157.045332318244,
          -7875.7967204631595,
          -8448.392120694718,
          -8869.055348358876,
          -9135.336013396594,
          -9248.15510685777,
          -9211.770380118644,
          -9033.66194690681,
          -8724.340562171536,
          -8297.083005735614,
          -7767.600870065822,
          -7153.650770277433,
          -6474.59551447895,
          -5750.927052483849,
          -5003.763025886187,
          -4254.3294448266815,
          -3523.4423965071614,
          -2831.001736798089,
          -2195.5094265100956,
          -1633.624554991965,
          -1159.7661611563856,
          -785.7737396921113,
          -520.6338401985604,
          -370.2794676061379,
          -337.4671185995438,
          -421.73429006699354,
          -619.4382246561426,
          -923.87457017324,
          -1325.4725789896413,
          -1812.0615151510035,
          -2369.2011220481036,
          -2980.5673803790974,
          -3628.383397280659,
          -4293.88414896108,
          -4957.802980505746,
          -5600.867267836532,
          -6204.290481066869,
          -6750.248058261225,
          -7222.324998554444,
          -7605.92389885581,
          -7888.623265626612,
          -8060.477302009101,
          -8114.249962624117,
          -8045.5778401545585,
          -7853.0583510139895,
          -7538.26167018897,
          -7105.666874228263,
          -6562.524732361911,
          -5918.651485703022,
          -5186.159723372057,
          -4379.134055125241,
          -3513.2606516538713,
          -2605.420840587434,
          -1673.2597805938688,
          -734.7417674824811,
          192.29605678754393,
          1090.5799218461013,
          1943.8143157033871,
          2737.0649933176614,
          3457.1005458728264,
          4092.684202114925,
          4634.808975657576,
          5076.870883435702,
          5414.776694648557,
          5646.9844780197345,
          5774.477047366114,
          5800.670211248918,
          5731.2594622521565,
          5574.0103486490725,
          5338.499213072744,
          5035.812221491709,
          4678.211609474091,
          4278.778816616506,
          3851.0446467229676,
          3408.6167712458546,
          2964.8147855552697,
          2532.3226382397543,
          2122.8675975490373,
          1746.934018176471,
          1413.5190541187728,
          1129.9361637916481,
          901.6708108592138,
          732.2912208364536,
          623.4154544772302,
          574.7344500686477,
          584.0891138993472,
          647.5980451816921,
          759.831110106575,
          914.0228667177582,
          1102.318820204983,
          1316.0466836318521,
          1546.0042518451871,
          1782.7551792865238,
          2016.9238912292653,
          2239.481050538233,
          2442.0114393563554,
          2616.956781004336,
          2757.826899185894,
          2859.3736612901203,
          2917.72334691391,
          2930.464385205819,
          2896.6887753767182,
          2816.9869030807663,
          2693.396849838615,
          2529.31062296046,
          2329.340971235026,
          2099.1535618137077,
          1845.270245370026,
          1574.849903758113,
          1295.453936926233,
          1014.8037897907067,
          740.5380379785821,
          479.9764430001214,
          239.89805913748825,
          26.339938177840203,
          -155.57774672669302
         ],
         "yaxis": "y2"
        }
       ],
       "layout": {
        "height": 400,
        "showlegend": false,
        "template": {
         "data": {
          "bar": [
           {
            "error_x": {
             "color": "#2a3f5f"
            },
            "error_y": {
             "color": "#2a3f5f"
            },
            "marker": {
             "line": {
              "color": "#E5ECF6",
              "width": 0.5
             }
            },
            "type": "bar"
           }
          ],
          "barpolar": [
           {
            "marker": {
             "line": {
              "color": "#E5ECF6",
              "width": 0.5
             }
            },
            "type": "barpolar"
           }
          ],
          "carpet": [
           {
            "aaxis": {
             "endlinecolor": "#2a3f5f",
             "gridcolor": "white",
             "linecolor": "white",
             "minorgridcolor": "white",
             "startlinecolor": "#2a3f5f"
            },
            "baxis": {
             "endlinecolor": "#2a3f5f",
             "gridcolor": "white",
             "linecolor": "white",
             "minorgridcolor": "white",
             "startlinecolor": "#2a3f5f"
            },
            "type": "carpet"
           }
          ],
          "choropleth": [
           {
            "colorbar": {
             "outlinewidth": 0,
             "ticks": ""
            },
            "type": "choropleth"
           }
          ],
          "contour": [
           {
            "colorbar": {
             "outlinewidth": 0,
             "ticks": ""
            },
            "colorscale": [
             [
              0,
              "#0d0887"
             ],
             [
              0.1111111111111111,
              "#46039f"
             ],
             [
              0.2222222222222222,
              "#7201a8"
             ],
             [
              0.3333333333333333,
              "#9c179e"
             ],
             [
              0.4444444444444444,
              "#bd3786"
             ],
             [
              0.5555555555555556,
              "#d8576b"
             ],
             [
              0.6666666666666666,
              "#ed7953"
             ],
             [
              0.7777777777777778,
              "#fb9f3a"
             ],
             [
              0.8888888888888888,
              "#fdca26"
             ],
             [
              1,
              "#f0f921"
             ]
            ],
            "type": "contour"
           }
          ],
          "contourcarpet": [
           {
            "colorbar": {
             "outlinewidth": 0,
             "ticks": ""
            },
            "type": "contourcarpet"
           }
          ],
          "heatmap": [
           {
            "colorbar": {
             "outlinewidth": 0,
             "ticks": ""
            },
            "colorscale": [
             [
              0,
              "#0d0887"
             ],
             [
              0.1111111111111111,
              "#46039f"
             ],
             [
              0.2222222222222222,
              "#7201a8"
             ],
             [
              0.3333333333333333,
              "#9c179e"
             ],
             [
              0.4444444444444444,
              "#bd3786"
             ],
             [
              0.5555555555555556,
              "#d8576b"
             ],
             [
              0.6666666666666666,
              "#ed7953"
             ],
             [
              0.7777777777777778,
              "#fb9f3a"
             ],
             [
              0.8888888888888888,
              "#fdca26"
             ],
             [
              1,
              "#f0f921"
             ]
            ],
            "type": "heatmap"
           }
          ],
          "heatmapgl": [
           {
            "colorbar": {
             "outlinewidth": 0,
             "ticks": ""
            },
            "colorscale": [
             [
              0,
              "#0d0887"
             ],
             [
              0.1111111111111111,
              "#46039f"
             ],
             [
              0.2222222222222222,
              "#7201a8"
             ],
             [
              0.3333333333333333,
              "#9c179e"
             ],
             [
              0.4444444444444444,
              "#bd3786"
             ],
             [
              0.5555555555555556,
              "#d8576b"
             ],
             [
              0.6666666666666666,
              "#ed7953"
             ],
             [
              0.7777777777777778,
              "#fb9f3a"
             ],
             [
              0.8888888888888888,
              "#fdca26"
             ],
             [
              1,
              "#f0f921"
             ]
            ],
            "type": "heatmapgl"
           }
          ],
          "histogram": [
           {
            "marker": {
             "colorbar": {
              "outlinewidth": 0,
              "ticks": ""
             }
            },
            "type": "histogram"
           }
          ],
          "histogram2d": [
           {
            "colorbar": {
             "outlinewidth": 0,
             "ticks": ""
            },
            "colorscale": [
             [
              0,
              "#0d0887"
             ],
             [
              0.1111111111111111,
              "#46039f"
             ],
             [
              0.2222222222222222,
              "#7201a8"
             ],
             [
              0.3333333333333333,
              "#9c179e"
             ],
             [
              0.4444444444444444,
              "#bd3786"
             ],
             [
              0.5555555555555556,
              "#d8576b"
             ],
             [
              0.6666666666666666,
              "#ed7953"
             ],
             [
              0.7777777777777778,
              "#fb9f3a"
             ],
             [
              0.8888888888888888,
              "#fdca26"
             ],
             [
              1,
              "#f0f921"
             ]
            ],
            "type": "histogram2d"
           }
          ],
          "histogram2dcontour": [
           {
            "colorbar": {
             "outlinewidth": 0,
             "ticks": ""
            },
            "colorscale": [
             [
              0,
              "#0d0887"
             ],
             [
              0.1111111111111111,
              "#46039f"
             ],
             [
              0.2222222222222222,
              "#7201a8"
             ],
             [
              0.3333333333333333,
              "#9c179e"
             ],
             [
              0.4444444444444444,
              "#bd3786"
             ],
             [
              0.5555555555555556,
              "#d8576b"
             ],
             [
              0.6666666666666666,
              "#ed7953"
             ],
             [
              0.7777777777777778,
              "#fb9f3a"
             ],
             [
              0.8888888888888888,
              "#fdca26"
             ],
             [
              1,
              "#f0f921"
             ]
            ],
            "type": "histogram2dcontour"
           }
          ],
          "mesh3d": [
           {
            "colorbar": {
             "outlinewidth": 0,
             "ticks": ""
            },
            "type": "mesh3d"
           }
          ],
          "parcoords": [
           {
            "line": {
             "colorbar": {
              "outlinewidth": 0,
              "ticks": ""
             }
            },
            "type": "parcoords"
           }
          ],
          "pie": [
           {
            "automargin": true,
            "type": "pie"
           }
          ],
          "scatter": [
           {
            "marker": {
             "colorbar": {
              "outlinewidth": 0,
              "ticks": ""
             }
            },
            "type": "scatter"
           }
          ],
          "scatter3d": [
           {
            "line": {
             "colorbar": {
              "outlinewidth": 0,
              "ticks": ""
             }
            },
            "marker": {
             "colorbar": {
              "outlinewidth": 0,
              "ticks": ""
             }
            },
            "type": "scatter3d"
           }
          ],
          "scattercarpet": [
           {
            "marker": {
             "colorbar": {
              "outlinewidth": 0,
              "ticks": ""
             }
            },
            "type": "scattercarpet"
           }
          ],
          "scattergeo": [
           {
            "marker": {
             "colorbar": {
              "outlinewidth": 0,
              "ticks": ""
             }
            },
            "type": "scattergeo"
           }
          ],
          "scattergl": [
           {
            "marker": {
             "colorbar": {
              "outlinewidth": 0,
              "ticks": ""
             }
            },
            "type": "scattergl"
           }
          ],
          "scattermapbox": [
           {
            "marker": {
             "colorbar": {
              "outlinewidth": 0,
              "ticks": ""
             }
            },
            "type": "scattermapbox"
           }
          ],
          "scatterpolar": [
           {
            "marker": {
             "colorbar": {
              "outlinewidth": 0,
              "ticks": ""
             }
            },
            "type": "scatterpolar"
           }
          ],
          "scatterpolargl": [
           {
            "marker": {
             "colorbar": {
              "outlinewidth": 0,
              "ticks": ""
             }
            },
            "type": "scatterpolargl"
           }
          ],
          "scatterternary": [
           {
            "marker": {
             "colorbar": {
              "outlinewidth": 0,
              "ticks": ""
             }
            },
            "type": "scatterternary"
           }
          ],
          "surface": [
           {
            "colorbar": {
             "outlinewidth": 0,
             "ticks": ""
            },
            "colorscale": [
             [
              0,
              "#0d0887"
             ],
             [
              0.1111111111111111,
              "#46039f"
             ],
             [
              0.2222222222222222,
              "#7201a8"
             ],
             [
              0.3333333333333333,
              "#9c179e"
             ],
             [
              0.4444444444444444,
              "#bd3786"
             ],
             [
              0.5555555555555556,
              "#d8576b"
             ],
             [
              0.6666666666666666,
              "#ed7953"
             ],
             [
              0.7777777777777778,
              "#fb9f3a"
             ],
             [
              0.8888888888888888,
              "#fdca26"
             ],
             [
              1,
              "#f0f921"
             ]
            ],
            "type": "surface"
           }
          ],
          "table": [
           {
            "cells": {
             "fill": {
              "color": "#EBF0F8"
             },
             "line": {
              "color": "white"
             }
            },
            "header": {
             "fill": {
              "color": "#C8D4E3"
             },
             "line": {
              "color": "white"
             }
            },
            "type": "table"
           }
          ]
         },
         "layout": {
          "annotationdefaults": {
           "arrowcolor": "#2a3f5f",
           "arrowhead": 0,
           "arrowwidth": 1
          },
          "autotypenumbers": "strict",
          "coloraxis": {
           "colorbar": {
            "outlinewidth": 0,
            "ticks": ""
           }
          },
          "colorscale": {
           "diverging": [
            [
             0,
             "#8e0152"
            ],
            [
             0.1,
             "#c51b7d"
            ],
            [
             0.2,
             "#de77ae"
            ],
            [
             0.3,
             "#f1b6da"
            ],
            [
             0.4,
             "#fde0ef"
            ],
            [
             0.5,
             "#f7f7f7"
            ],
            [
             0.6,
             "#e6f5d0"
            ],
            [
             0.7,
             "#b8e186"
            ],
            [
             0.8,
             "#7fbc41"
            ],
            [
             0.9,
             "#4d9221"
            ],
            [
             1,
             "#276419"
            ]
           ],
           "sequential": [
            [
             0,
             "#0d0887"
            ],
            [
             0.1111111111111111,
             "#46039f"
            ],
            [
             0.2222222222222222,
             "#7201a8"
            ],
            [
             0.3333333333333333,
             "#9c179e"
            ],
            [
             0.4444444444444444,
             "#bd3786"
            ],
            [
             0.5555555555555556,
             "#d8576b"
            ],
            [
             0.6666666666666666,
             "#ed7953"
            ],
            [
             0.7777777777777778,
             "#fb9f3a"
            ],
            [
             0.8888888888888888,
             "#fdca26"
            ],
            [
             1,
             "#f0f921"
            ]
           ],
           "sequentialminus": [
            [
             0,
             "#0d0887"
            ],
            [
             0.1111111111111111,
             "#46039f"
            ],
            [
             0.2222222222222222,
             "#7201a8"
            ],
            [
             0.3333333333333333,
             "#9c179e"
            ],
            [
             0.4444444444444444,
             "#bd3786"
            ],
            [
             0.5555555555555556,
             "#d8576b"
            ],
            [
             0.6666666666666666,
             "#ed7953"
            ],
            [
             0.7777777777777778,
             "#fb9f3a"
            ],
            [
             0.8888888888888888,
             "#fdca26"
            ],
            [
             1,
             "#f0f921"
            ]
           ]
          },
          "colorway": [
           "#636efa",
           "#EF553B",
           "#00cc96",
           "#ab63fa",
           "#FFA15A",
           "#19d3f3",
           "#FF6692",
           "#B6E880",
           "#FF97FF",
           "#FECB52"
          ],
          "font": {
           "color": "#2a3f5f"
          },
          "geo": {
           "bgcolor": "white",
           "lakecolor": "white",
           "landcolor": "#E5ECF6",
           "showlakes": true,
           "showland": true,
           "subunitcolor": "white"
          },
          "hoverlabel": {
           "align": "left"
          },
          "hovermode": "closest",
          "mapbox": {
           "style": "light"
          },
          "paper_bgcolor": "white",
          "plot_bgcolor": "#E5ECF6",
          "polar": {
           "angularaxis": {
            "gridcolor": "white",
            "linecolor": "white",
            "ticks": ""
           },
           "bgcolor": "#E5ECF6",
           "radialaxis": {
            "gridcolor": "white",
            "linecolor": "white",
            "ticks": ""
           }
          },
          "scene": {
           "xaxis": {
            "backgroundcolor": "#E5ECF6",
            "gridcolor": "white",
            "gridwidth": 2,
            "linecolor": "white",
            "showbackground": true,
            "ticks": "",
            "zerolinecolor": "white"
           },
           "yaxis": {
            "backgroundcolor": "#E5ECF6",
            "gridcolor": "white",
            "gridwidth": 2,
            "linecolor": "white",
            "showbackground": true,
            "ticks": "",
            "zerolinecolor": "white"
           },
           "zaxis": {
            "backgroundcolor": "#E5ECF6",
            "gridcolor": "white",
            "gridwidth": 2,
            "linecolor": "white",
            "showbackground": true,
            "ticks": "",
            "zerolinecolor": "white"
           }
          },
          "shapedefaults": {
           "line": {
            "color": "#2a3f5f"
           }
          },
          "ternary": {
           "aaxis": {
            "gridcolor": "white",
            "linecolor": "white",
            "ticks": ""
           },
           "baxis": {
            "gridcolor": "white",
            "linecolor": "white",
            "ticks": ""
           },
           "bgcolor": "#E5ECF6",
           "caxis": {
            "gridcolor": "white",
            "linecolor": "white",
            "ticks": ""
           }
          },
          "title": {
           "x": 0.05
          },
          "xaxis": {
           "automargin": true,
           "gridcolor": "white",
           "linecolor": "white",
           "ticks": "",
           "title": {
            "standoff": 15
           },
           "zerolinecolor": "white",
           "zerolinewidth": 2
          },
          "yaxis": {
           "automargin": true,
           "gridcolor": "white",
           "linecolor": "white",
           "ticks": "",
           "title": {
            "standoff": 15
           },
           "zerolinecolor": "white",
           "zerolinewidth": 2
          }
         }
        },
        "width": 900,
        "xaxis": {
         "anchor": "y",
         "domain": [
          0,
          1
         ],
         "range": [
          "2014-10-03T06:00:00",
          "2020-02-28T18:00:00"
         ],
         "type": "date"
        },
        "xaxis2": {
         "anchor": "y2",
         "domain": [
          0,
          1
         ],
         "range": [
          "2016-12-13T18:54:02.958904115",
          "2018-01-18T11:04:57.863013581"
         ],
         "tickformat": "%B %e",
         "type": "date"
        },
        "yaxis": {
         "anchor": "x",
         "domain": [
          0.575,
          1
         ],
         "rangemode": "normal",
         "title": {
          "text": "trend"
         },
         "zerolinecolor": "#AAA"
        },
        "yaxis2": {
         "anchor": "x2",
         "domain": [
          0,
          0.425
         ],
         "title": {
          "text": "yearly"
         },
         "zerolinecolor": "#AAA"
        }
       }
      },
      "text/html": [
       "<div>                            <div id=\"c568952c-54db-4658-830a-1db1ef91cd2e\" class=\"plotly-graph-div\" style=\"height:400px; width:900px;\"></div>            <script type=\"text/javascript\">                require([\"plotly\"], function(Plotly) {                    window.PLOTLYENV=window.PLOTLYENV || {};                                    if (document.getElementById(\"c568952c-54db-4658-830a-1db1ef91cd2e\")) {                    Plotly.newPlot(                        \"c568952c-54db-4658-830a-1db1ef91cd2e\",                        [{\"line\": {\"color\": \"#0072B2\", \"width\": 2}, \"mode\": \"lines\", \"name\": \"trend\", \"type\": \"scatter\", \"x\": [\"2015-01-01T00:00:00\", \"2015-02-01T00:00:00\", \"2015-03-01T00:00:00\", \"2015-04-01T00:00:00\", \"2015-05-01T00:00:00\", \"2015-06-01T00:00:00\", \"2015-07-01T00:00:00\", \"2015-08-01T00:00:00\", \"2015-09-01T00:00:00\", \"2015-10-01T00:00:00\", \"2015-11-01T00:00:00\", \"2015-12-01T00:00:00\", \"2016-01-01T00:00:00\", \"2016-02-01T00:00:00\", \"2016-03-01T00:00:00\", \"2016-04-01T00:00:00\", \"2016-05-01T00:00:00\", \"2016-06-01T00:00:00\", \"2016-07-01T00:00:00\", \"2016-08-01T00:00:00\", \"2016-09-01T00:00:00\", \"2016-10-01T00:00:00\", \"2016-11-01T00:00:00\", \"2016-12-01T00:00:00\", \"2017-01-01T00:00:00\", \"2017-02-01T00:00:00\", \"2017-03-01T00:00:00\", \"2017-04-01T00:00:00\", \"2017-05-01T00:00:00\", \"2017-06-01T00:00:00\", \"2017-07-01T00:00:00\", \"2017-08-01T00:00:00\", \"2017-09-01T00:00:00\", \"2017-10-01T00:00:00\", \"2017-11-01T00:00:00\", \"2017-12-01T00:00:00\", \"2018-01-01T00:00:00\", \"2018-02-01T00:00:00\", \"2018-03-01T00:00:00\", \"2018-04-01T00:00:00\", \"2018-05-01T00:00:00\", \"2018-06-01T00:00:00\", \"2018-07-01T00:00:00\", \"2018-08-01T00:00:00\", \"2018-09-01T00:00:00\", \"2018-10-01T00:00:00\", \"2018-11-01T00:00:00\", \"2018-12-01T00:00:00\", \"2019-01-01T00:00:00\", \"2019-02-01T00:00:00\", \"2019-03-01T00:00:00\", \"2019-04-01T00:00:00\", \"2019-05-01T00:00:00\", \"2019-06-01T00:00:00\", \"2019-07-01T00:00:00\", \"2019-08-01T00:00:00\", \"2019-09-01T00:00:00\", \"2019-10-01T00:00:00\", \"2019-11-01T00:00:00\", \"2019-12-01T00:00:00\"], \"xaxis\": \"x\", \"y\": [805.8513189313735, 799.0457251057846, 792.8987371364219, 786.093143313199, 779.5070847876713, 772.7014909993327, 766.1154324944889, 759.3098386972349, 752.504244908531, 745.9181864033335, 739.112592602068, 732.5265340969618, 725.7209403083519, 718.9162884349753, 712.5506463459029, 705.7459944575842, 699.1608474555497, 692.356195552692, 685.7710485499265, 678.9663966657179, 672.1617447662142, 665.5765977666945, 658.7719458507422, 652.186798815373, 645.3821468788249, 638.5774949309422, 632.4313576715412, 625.6267057057756, 619.041558664529, 612.2369067142583, 605.6517596656093, 598.847107698344, 592.0424557463917, 585.4573086961153, 578.6526567540957, 572.0675097079823, 565.2628577603316, 558.4582057922014, 552.3120685120164, 545.5074165232402, 538.9222694373276, 532.1176174485513, 525.5324703626388, 518.7278183738624, 511.9231663850861, 505.3380192991736, 498.53336731039735, 491.94822022448477, 485.1435682357085, 478.3389162469322, 472.1927789667472, 465.3881269779709, 458.80297989205826, 451.9983279032821, 445.41318081736944, 438.60852882859325, 431.8038768398169, 425.21872975390437, 418.41407776512807, 411.82893067921555], \"yaxis\": \"y\"}, {\"line\": {\"color\": \"rgba(0, 114, 178, 0.2)\", \"width\": 0}, \"mode\": \"lines\", \"name\": \"trend_upper\", \"type\": \"scatter\", \"x\": [\"2015-01-01T00:00:00\", \"2015-02-01T00:00:00\", \"2015-03-01T00:00:00\", \"2015-04-01T00:00:00\", \"2015-05-01T00:00:00\", \"2015-06-01T00:00:00\", \"2015-07-01T00:00:00\", \"2015-08-01T00:00:00\", \"2015-09-01T00:00:00\", \"2015-10-01T00:00:00\", \"2015-11-01T00:00:00\", \"2015-12-01T00:00:00\", \"2016-01-01T00:00:00\", \"2016-02-01T00:00:00\", \"2016-03-01T00:00:00\", \"2016-04-01T00:00:00\", \"2016-05-01T00:00:00\", \"2016-06-01T00:00:00\", \"2016-07-01T00:00:00\", \"2016-08-01T00:00:00\", \"2016-09-01T00:00:00\", \"2016-10-01T00:00:00\", \"2016-11-01T00:00:00\", \"2016-12-01T00:00:00\", \"2017-01-01T00:00:00\", \"2017-02-01T00:00:00\", \"2017-03-01T00:00:00\", \"2017-04-01T00:00:00\", \"2017-05-01T00:00:00\", \"2017-06-01T00:00:00\", \"2017-07-01T00:00:00\", \"2017-08-01T00:00:00\", \"2017-09-01T00:00:00\", \"2017-10-01T00:00:00\", \"2017-11-01T00:00:00\", \"2017-12-01T00:00:00\", \"2018-01-01T00:00:00\", \"2018-02-01T00:00:00\", \"2018-03-01T00:00:00\", \"2018-04-01T00:00:00\", \"2018-05-01T00:00:00\", \"2018-06-01T00:00:00\", \"2018-07-01T00:00:00\", \"2018-08-01T00:00:00\", \"2018-09-01T00:00:00\", \"2018-10-01T00:00:00\", \"2018-11-01T00:00:00\", \"2018-12-01T00:00:00\", \"2019-01-01T00:00:00\", \"2019-02-01T00:00:00\", \"2019-03-01T00:00:00\", \"2019-04-01T00:00:00\", \"2019-05-01T00:00:00\", \"2019-06-01T00:00:00\", \"2019-07-01T00:00:00\", \"2019-08-01T00:00:00\", \"2019-09-01T00:00:00\", \"2019-10-01T00:00:00\", \"2019-11-01T00:00:00\", \"2019-12-01T00:00:00\"], \"xaxis\": \"x\", \"y\": [805.8513189313735, 799.0457251057846, 792.8987371364219, 786.0931433131989, 779.5070847876713, 772.7014909993327, 766.1154324944889, 759.3098386972349, 752.504244908531, 745.9181864033335, 739.112592602068, 732.5265340969618, 725.720940308352, 718.9162884349753, 712.5506463459029, 705.7459944575842, 699.1608474555497, 692.356195552692, 685.7710485499265, 678.9663966657179, 672.161744766214, 665.5765977666945, 658.7719458507422, 652.186798815373, 645.3821468788249, 638.5774949309422, 632.4313576715412, 625.6267057057756, 619.041558664529, 612.2369067142583, 605.6517596656093, 598.847107698344, 592.0424557463917, 585.4573086961153, 578.6526567540957, 572.0675097079823, 565.2628577603316, 558.4582057922014, 552.3120685120164, 545.5074165232402, 538.9222694373276, 532.1176174485513, 525.5324703626388, 518.7278183738624, 511.9231663850861, 505.3380192991736, 498.53336731039735, 491.94822022448477, 485.14358121063503, 478.33897926546564, 472.1929055604847, 465.38832548018803, 458.80325025318916, 451.99868269471426, 445.41363422173396, 438.60910063094644, 431.8045753605341, 425.21955467860613, 418.41505169072445, 411.8300623597108], \"yaxis\": \"y\"}, {\"fill\": \"tonexty\", \"fillcolor\": \"rgba(0, 114, 178, 0.2)\", \"line\": {\"color\": \"rgba(0, 114, 178, 0.2)\", \"width\": 0}, \"mode\": \"lines\", \"name\": \"trend_lower\", \"type\": \"scatter\", \"x\": [\"2015-01-01T00:00:00\", \"2015-02-01T00:00:00\", \"2015-03-01T00:00:00\", \"2015-04-01T00:00:00\", \"2015-05-01T00:00:00\", \"2015-06-01T00:00:00\", \"2015-07-01T00:00:00\", \"2015-08-01T00:00:00\", \"2015-09-01T00:00:00\", \"2015-10-01T00:00:00\", \"2015-11-01T00:00:00\", \"2015-12-01T00:00:00\", \"2016-01-01T00:00:00\", \"2016-02-01T00:00:00\", \"2016-03-01T00:00:00\", \"2016-04-01T00:00:00\", \"2016-05-01T00:00:00\", \"2016-06-01T00:00:00\", \"2016-07-01T00:00:00\", \"2016-08-01T00:00:00\", \"2016-09-01T00:00:00\", \"2016-10-01T00:00:00\", \"2016-11-01T00:00:00\", \"2016-12-01T00:00:00\", \"2017-01-01T00:00:00\", \"2017-02-01T00:00:00\", \"2017-03-01T00:00:00\", \"2017-04-01T00:00:00\", \"2017-05-01T00:00:00\", \"2017-06-01T00:00:00\", \"2017-07-01T00:00:00\", \"2017-08-01T00:00:00\", \"2017-09-01T00:00:00\", \"2017-10-01T00:00:00\", \"2017-11-01T00:00:00\", \"2017-12-01T00:00:00\", \"2018-01-01T00:00:00\", \"2018-02-01T00:00:00\", \"2018-03-01T00:00:00\", \"2018-04-01T00:00:00\", \"2018-05-01T00:00:00\", \"2018-06-01T00:00:00\", \"2018-07-01T00:00:00\", \"2018-08-01T00:00:00\", \"2018-09-01T00:00:00\", \"2018-10-01T00:00:00\", \"2018-11-01T00:00:00\", \"2018-12-01T00:00:00\", \"2019-01-01T00:00:00\", \"2019-02-01T00:00:00\", \"2019-03-01T00:00:00\", \"2019-04-01T00:00:00\", \"2019-05-01T00:00:00\", \"2019-06-01T00:00:00\", \"2019-07-01T00:00:00\", \"2019-08-01T00:00:00\", \"2019-09-01T00:00:00\", \"2019-10-01T00:00:00\", \"2019-11-01T00:00:00\", \"2019-12-01T00:00:00\"], \"xaxis\": \"x\", \"y\": [805.8513189313735, 799.0457251057846, 792.8987371364219, 786.0931433131989, 779.5070847876713, 772.7014909993327, 766.1154324944889, 759.3098386972349, 752.504244908531, 745.9181864033335, 739.112592602068, 732.5265340969618, 725.720940308352, 718.9162884349753, 712.5506463459029, 705.7459944575842, 699.1608474555497, 692.356195552692, 685.7710485499265, 678.9663966657179, 672.161744766214, 665.5765977666945, 658.7719458507422, 652.186798815373, 645.3821468788249, 638.5774949309422, 632.4313576715412, 625.6267057057756, 619.041558664529, 612.2369067142583, 605.6517596656093, 598.847107698344, 592.0424557463917, 585.4573086961153, 578.6526567540957, 572.0675097079823, 565.2628577603316, 558.4582057922014, 552.3120685120164, 545.5074165232402, 538.9222694373276, 532.1176174485513, 525.5324703626388, 518.7278183738624, 511.9231663850861, 505.3380192991736, 498.53336731039735, 491.94822022448477, 485.1435524442511, 478.33885632963023, 472.1926578646054, 465.38791647126624, 458.8026874641956, 451.99793542480074, 445.4126688883055, 438.6079137442953, 431.80314510125487, 425.21788047015394, 418.41309730405527, 411.82781585304394], \"yaxis\": \"y\"}, {\"line\": {\"color\": \"#0072B2\", \"width\": 2}, \"mode\": \"lines\", \"name\": \"yearly\", \"type\": \"scatter\", \"x\": [\"2017-01-01T00:00:00\", \"2017-01-02T00:00:59.178082\", \"2017-01-03T00:01:58.356164\", \"2017-01-04T00:02:57.534246\", \"2017-01-05T00:03:56.712328\", \"2017-01-06T00:04:55.890411\", \"2017-01-07T00:05:55.068493\", \"2017-01-08T00:06:54.246575\", \"2017-01-09T00:07:53.424657\", \"2017-01-10T00:08:52.602739\", \"2017-01-11T00:09:51.780822\", \"2017-01-12T00:10:50.958904\", \"2017-01-13T00:11:50.136986\", \"2017-01-14T00:12:49.315068\", \"2017-01-15T00:13:48.493150\", \"2017-01-16T00:14:47.671232\", \"2017-01-17T00:15:46.849315\", \"2017-01-18T00:16:46.027397\", \"2017-01-19T00:17:45.205479\", \"2017-01-20T00:18:44.383561\", \"2017-01-21T00:19:43.561643\", \"2017-01-22T00:20:42.739726\", \"2017-01-23T00:21:41.917808\", \"2017-01-24T00:22:41.095890\", \"2017-01-25T00:23:40.273972\", \"2017-01-26T00:24:39.452054\", \"2017-01-27T00:25:38.630137\", \"2017-01-28T00:26:37.808219\", \"2017-01-29T00:27:36.986301\", \"2017-01-30T00:28:36.164383\", \"2017-01-31T00:29:35.342465\", \"2017-02-01T00:30:34.520547\", \"2017-02-02T00:31:33.698630\", \"2017-02-03T00:32:32.876712\", \"2017-02-04T00:33:32.054794\", \"2017-02-05T00:34:31.232876\", \"2017-02-06T00:35:30.410958\", \"2017-02-07T00:36:29.589041\", \"2017-02-08T00:37:28.767123\", \"2017-02-09T00:38:27.945205\", \"2017-02-10T00:39:27.123287\", \"2017-02-11T00:40:26.301369\", \"2017-02-12T00:41:25.479452\", \"2017-02-13T00:42:24.657534\", \"2017-02-14T00:43:23.835616\", \"2017-02-15T00:44:23.013698\", \"2017-02-16T00:45:22.191780\", \"2017-02-17T00:46:21.369862\", \"2017-02-18T00:47:20.547945\", \"2017-02-19T00:48:19.726027\", \"2017-02-20T00:49:18.904109\", \"2017-02-21T00:50:18.082191\", \"2017-02-22T00:51:17.260273\", \"2017-02-23T00:52:16.438356\", \"2017-02-24T00:53:15.616438\", \"2017-02-25T00:54:14.794520\", \"2017-02-26T00:55:13.972602\", \"2017-02-27T00:56:13.150684\", \"2017-02-28T00:57:12.328767\", \"2017-03-01T00:58:11.506849\", \"2017-03-02T00:59:10.684931\", \"2017-03-03T01:00:09.863013\", \"2017-03-04T01:01:09.041095\", \"2017-03-05T01:02:08.219177\", \"2017-03-06T01:03:07.397260\", \"2017-03-07T01:04:06.575342\", \"2017-03-08T01:05:05.753424\", \"2017-03-09T01:06:04.931506\", \"2017-03-10T01:07:04.109588\", \"2017-03-11T01:08:03.287671\", \"2017-03-12T01:09:02.465753\", \"2017-03-13T01:10:01.643835\", \"2017-03-14T01:11:00.821917\", \"2017-03-15T01:12:00\", \"2017-03-16T01:12:59.178082\", \"2017-03-17T01:13:58.356164\", \"2017-03-18T01:14:57.534246\", \"2017-03-19T01:15:56.712328\", \"2017-03-20T01:16:55.890411\", \"2017-03-21T01:17:55.068493\", \"2017-03-22T01:18:54.246575\", \"2017-03-23T01:19:53.424657\", \"2017-03-24T01:20:52.602739\", \"2017-03-25T01:21:51.780822\", \"2017-03-26T01:22:50.958904\", \"2017-03-27T01:23:50.136986\", \"2017-03-28T01:24:49.315068\", \"2017-03-29T01:25:48.493150\", \"2017-03-30T01:26:47.671232\", \"2017-03-31T01:27:46.849315\", \"2017-04-01T01:28:46.027397\", \"2017-04-02T01:29:45.205479\", \"2017-04-03T01:30:44.383561\", \"2017-04-04T01:31:43.561643\", \"2017-04-05T01:32:42.739726\", \"2017-04-06T01:33:41.917808\", \"2017-04-07T01:34:41.095890\", \"2017-04-08T01:35:40.273972\", \"2017-04-09T01:36:39.452054\", \"2017-04-10T01:37:38.630137\", \"2017-04-11T01:38:37.808219\", \"2017-04-12T01:39:36.986301\", \"2017-04-13T01:40:36.164383\", \"2017-04-14T01:41:35.342465\", \"2017-04-15T01:42:34.520547\", \"2017-04-16T01:43:33.698630\", \"2017-04-17T01:44:32.876712\", \"2017-04-18T01:45:32.054794\", \"2017-04-19T01:46:31.232876\", \"2017-04-20T01:47:30.410958\", \"2017-04-21T01:48:29.589041\", \"2017-04-22T01:49:28.767123\", \"2017-04-23T01:50:27.945205\", \"2017-04-24T01:51:27.123287\", \"2017-04-25T01:52:26.301369\", \"2017-04-26T01:53:25.479452\", \"2017-04-27T01:54:24.657534\", \"2017-04-28T01:55:23.835616\", \"2017-04-29T01:56:23.013698\", \"2017-04-30T01:57:22.191780\", \"2017-05-01T01:58:21.369862\", \"2017-05-02T01:59:20.547945\", \"2017-05-03T02:00:19.726027\", \"2017-05-04T02:01:18.904109\", \"2017-05-05T02:02:18.082191\", \"2017-05-06T02:03:17.260273\", \"2017-05-07T02:04:16.438356\", \"2017-05-08T02:05:15.616438\", \"2017-05-09T02:06:14.794520\", \"2017-05-10T02:07:13.972602\", \"2017-05-11T02:08:13.150684\", \"2017-05-12T02:09:12.328767\", \"2017-05-13T02:10:11.506849\", \"2017-05-14T02:11:10.684931\", \"2017-05-15T02:12:09.863013\", \"2017-05-16T02:13:09.041095\", \"2017-05-17T02:14:08.219177\", \"2017-05-18T02:15:07.397260\", \"2017-05-19T02:16:06.575342\", \"2017-05-20T02:17:05.753424\", \"2017-05-21T02:18:04.931506\", \"2017-05-22T02:19:04.109588\", \"2017-05-23T02:20:03.287671\", \"2017-05-24T02:21:02.465753\", \"2017-05-25T02:22:01.643835\", \"2017-05-26T02:23:00.821917\", \"2017-05-27T02:24:00\", \"2017-05-28T02:24:59.178082\", \"2017-05-29T02:25:58.356164\", \"2017-05-30T02:26:57.534246\", \"2017-05-31T02:27:56.712328\", \"2017-06-01T02:28:55.890411\", \"2017-06-02T02:29:55.068493\", \"2017-06-03T02:30:54.246575\", \"2017-06-04T02:31:53.424657\", \"2017-06-05T02:32:52.602739\", \"2017-06-06T02:33:51.780822\", \"2017-06-07T02:34:50.958904\", \"2017-06-08T02:35:50.136986\", \"2017-06-09T02:36:49.315068\", \"2017-06-10T02:37:48.493150\", \"2017-06-11T02:38:47.671232\", \"2017-06-12T02:39:46.849315\", \"2017-06-13T02:40:46.027397\", \"2017-06-14T02:41:45.205479\", \"2017-06-15T02:42:44.383561\", \"2017-06-16T02:43:43.561643\", \"2017-06-17T02:44:42.739726\", \"2017-06-18T02:45:41.917808\", \"2017-06-19T02:46:41.095890\", \"2017-06-20T02:47:40.273972\", \"2017-06-21T02:48:39.452054\", \"2017-06-22T02:49:38.630137\", \"2017-06-23T02:50:37.808219\", \"2017-06-24T02:51:36.986301\", \"2017-06-25T02:52:36.164383\", \"2017-06-26T02:53:35.342465\", \"2017-06-27T02:54:34.520547\", \"2017-06-28T02:55:33.698630\", \"2017-06-29T02:56:32.876712\", \"2017-06-30T02:57:32.054794\", \"2017-07-01T02:58:31.232876\", \"2017-07-02T02:59:30.410958\", \"2017-07-03T03:00:29.589041\", \"2017-07-04T03:01:28.767123\", \"2017-07-05T03:02:27.945205\", \"2017-07-06T03:03:27.123287\", \"2017-07-07T03:04:26.301369\", \"2017-07-08T03:05:25.479452\", \"2017-07-09T03:06:24.657534\", \"2017-07-10T03:07:23.835616\", \"2017-07-11T03:08:23.013698\", \"2017-07-12T03:09:22.191780\", \"2017-07-13T03:10:21.369862\", \"2017-07-14T03:11:20.547945\", \"2017-07-15T03:12:19.726027\", \"2017-07-16T03:13:18.904109\", \"2017-07-17T03:14:18.082191\", \"2017-07-18T03:15:17.260273\", \"2017-07-19T03:16:16.438356\", \"2017-07-20T03:17:15.616438\", \"2017-07-21T03:18:14.794520\", \"2017-07-22T03:19:13.972602\", \"2017-07-23T03:20:13.150684\", \"2017-07-24T03:21:12.328767\", \"2017-07-25T03:22:11.506849\", \"2017-07-26T03:23:10.684931\", \"2017-07-27T03:24:09.863013\", \"2017-07-28T03:25:09.041095\", \"2017-07-29T03:26:08.219177\", \"2017-07-30T03:27:07.397260\", \"2017-07-31T03:28:06.575342\", \"2017-08-01T03:29:05.753424\", \"2017-08-02T03:30:04.931506\", \"2017-08-03T03:31:04.109588\", \"2017-08-04T03:32:03.287671\", \"2017-08-05T03:33:02.465753\", \"2017-08-06T03:34:01.643835\", \"2017-08-07T03:35:00.821917\", \"2017-08-08T03:36:00\", \"2017-08-09T03:36:59.178082\", \"2017-08-10T03:37:58.356164\", \"2017-08-11T03:38:57.534246\", \"2017-08-12T03:39:56.712328\", \"2017-08-13T03:40:55.890411\", \"2017-08-14T03:41:55.068493\", \"2017-08-15T03:42:54.246575\", \"2017-08-16T03:43:53.424657\", \"2017-08-17T03:44:52.602739\", \"2017-08-18T03:45:51.780822\", \"2017-08-19T03:46:50.958904\", \"2017-08-20T03:47:50.136986\", \"2017-08-21T03:48:49.315068\", \"2017-08-22T03:49:48.493150\", \"2017-08-23T03:50:47.671232\", \"2017-08-24T03:51:46.849315\", \"2017-08-25T03:52:46.027397\", \"2017-08-26T03:53:45.205479\", \"2017-08-27T03:54:44.383561\", \"2017-08-28T03:55:43.561643\", \"2017-08-29T03:56:42.739726\", \"2017-08-30T03:57:41.917808\", \"2017-08-31T03:58:41.095890\", \"2017-09-01T03:59:40.273972\", \"2017-09-02T04:00:39.452054\", \"2017-09-03T04:01:38.630137\", \"2017-09-04T04:02:37.808219\", \"2017-09-05T04:03:36.986301\", \"2017-09-06T04:04:36.164383\", \"2017-09-07T04:05:35.342465\", \"2017-09-08T04:06:34.520547\", \"2017-09-09T04:07:33.698630\", \"2017-09-10T04:08:32.876712\", \"2017-09-11T04:09:32.054794\", \"2017-09-12T04:10:31.232876\", \"2017-09-13T04:11:30.410958\", \"2017-09-14T04:12:29.589041\", \"2017-09-15T04:13:28.767123\", \"2017-09-16T04:14:27.945205\", \"2017-09-17T04:15:27.123287\", \"2017-09-18T04:16:26.301369\", \"2017-09-19T04:17:25.479452\", \"2017-09-20T04:18:24.657534\", \"2017-09-21T04:19:23.835616\", \"2017-09-22T04:20:23.013698\", \"2017-09-23T04:21:22.191780\", \"2017-09-24T04:22:21.369862\", \"2017-09-25T04:23:20.547945\", \"2017-09-26T04:24:19.726027\", \"2017-09-27T04:25:18.904109\", \"2017-09-28T04:26:18.082191\", \"2017-09-29T04:27:17.260273\", \"2017-09-30T04:28:16.438356\", \"2017-10-01T04:29:15.616438\", \"2017-10-02T04:30:14.794520\", \"2017-10-03T04:31:13.972602\", \"2017-10-04T04:32:13.150684\", \"2017-10-05T04:33:12.328767\", \"2017-10-06T04:34:11.506849\", \"2017-10-07T04:35:10.684931\", \"2017-10-08T04:36:09.863013\", \"2017-10-09T04:37:09.041095\", \"2017-10-10T04:38:08.219177\", \"2017-10-11T04:39:07.397260\", \"2017-10-12T04:40:06.575342\", \"2017-10-13T04:41:05.753424\", \"2017-10-14T04:42:04.931506\", \"2017-10-15T04:43:04.109588\", \"2017-10-16T04:44:03.287671\", \"2017-10-17T04:45:02.465753\", \"2017-10-18T04:46:01.643835\", \"2017-10-19T04:47:00.821917\", \"2017-10-20T04:48:00\", \"2017-10-21T04:48:59.178082\", \"2017-10-22T04:49:58.356164\", \"2017-10-23T04:50:57.534246\", \"2017-10-24T04:51:56.712328\", \"2017-10-25T04:52:55.890411\", \"2017-10-26T04:53:55.068493\", \"2017-10-27T04:54:54.246575\", \"2017-10-28T04:55:53.424657\", \"2017-10-29T04:56:52.602739\", \"2017-10-30T04:57:51.780822\", \"2017-10-31T04:58:50.958904\", \"2017-11-01T04:59:50.136986\", \"2017-11-02T05:00:49.315068\", \"2017-11-03T05:01:48.493150\", \"2017-11-04T05:02:47.671232\", \"2017-11-05T05:03:46.849315\", \"2017-11-06T05:04:46.027397\", \"2017-11-07T05:05:45.205479\", \"2017-11-08T05:06:44.383561\", \"2017-11-09T05:07:43.561643\", \"2017-11-10T05:08:42.739726\", \"2017-11-11T05:09:41.917808\", \"2017-11-12T05:10:41.095890\", \"2017-11-13T05:11:40.273972\", \"2017-11-14T05:12:39.452054\", \"2017-11-15T05:13:38.630137\", \"2017-11-16T05:14:37.808219\", \"2017-11-17T05:15:36.986301\", \"2017-11-18T05:16:36.164383\", \"2017-11-19T05:17:35.342465\", \"2017-11-20T05:18:34.520547\", \"2017-11-21T05:19:33.698630\", \"2017-11-22T05:20:32.876712\", \"2017-11-23T05:21:32.054794\", \"2017-11-24T05:22:31.232876\", \"2017-11-25T05:23:30.410958\", \"2017-11-26T05:24:29.589041\", \"2017-11-27T05:25:28.767123\", \"2017-11-28T05:26:27.945205\", \"2017-11-29T05:27:27.123287\", \"2017-11-30T05:28:26.301369\", \"2017-12-01T05:29:25.479452\", \"2017-12-02T05:30:24.657534\", \"2017-12-03T05:31:23.835616\", \"2017-12-04T05:32:23.013698\", \"2017-12-05T05:33:22.191780\", \"2017-12-06T05:34:21.369862\", \"2017-12-07T05:35:20.547945\", \"2017-12-08T05:36:19.726027\", \"2017-12-09T05:37:18.904109\", \"2017-12-10T05:38:18.082191\", \"2017-12-11T05:39:17.260273\", \"2017-12-12T05:40:16.438356\", \"2017-12-13T05:41:15.616438\", \"2017-12-14T05:42:14.794520\", \"2017-12-15T05:43:13.972602\", \"2017-12-16T05:44:13.150684\", \"2017-12-17T05:45:12.328767\", \"2017-12-18T05:46:11.506849\", \"2017-12-19T05:47:10.684931\", \"2017-12-20T05:48:09.863013\", \"2017-12-21T05:49:09.041095\", \"2017-12-22T05:50:08.219177\", \"2017-12-23T05:51:07.397260\", \"2017-12-24T05:52:06.575342\", \"2017-12-25T05:53:05.753424\", \"2017-12-26T05:54:04.931506\", \"2017-12-27T05:55:04.109588\", \"2017-12-28T05:56:03.287671\", \"2017-12-29T05:57:02.465753\", \"2017-12-30T05:58:01.643835\", \"2017-12-31T05:59:00.821917\"], \"xaxis\": \"x2\", \"y\": [-301.79522673870605, -409.4214073198484, -476.8041073079303, -503.5606906375136, -490.56874487001875, -439.9176860339348, -354.82335228319914, -239.50875454859005, -99.05514834518262, 60.771551951245016, 233.7133007631345, 413.22516326124384, 592.686727881487, 765.6130327002602, 925.8584408944673, 1067.8071920821517, 1186.5448370361858, 1278.005416423031, 1339.0900484931717, 1367.7535199890779, 1363.0564996672779, 1325.1820824801, 1255.4164909985966, 1156.0948745911496, 1030.514222346087, 882.8164100405901, 717.845304662666, 540.9826250922785, 357.96788196077495, 174.70817532880545, -2.916097055809476, -169.24348258469865, -319.01563367746473, -447.54764058944033, -550.8792581304782, -625.9023724261143, -670.4608189444891, -683.4195435095045, -664.701066576957, -615.2882371666753, -537.1933150057226, -433.39446503657234, -307.74175564361394, -164.8356899012745, -9.882139535472733, 151.47173114737902, 313.3153909727959, 469.66114481973506, 614.6328025303702, 742.6509434291211, 848.6090278468781, 928.0349050246322, 977.232731431192, 993.4009297933354, 974.7225677545725, 920.4253925219732, 830.8096976852111, 707.2431914277993, 552.1230511879335, 368.8063572472135, 161.51106599480363, -64.80941657021154, -304.6141968487001, -551.940843047572, -800.5842308914353, -1044.2828082690116, -1276.906583410524, -1492.6410974731502, -1686.1617740195707, -1852.793340216244, -1988.649478021259, -2090.748473793497, -2157.1013724624995, -2186.7699850697077, -2179.8930201469616, -2137.6795817999387, -2062.3702708147566, -1957.1671093987547, -1826.1344553072618, -1674.073948515749, -1506.3773168049022, -1328.8615319347464, -1147.5913357266595, -968.6945294975678, -798.1756299841718, -641.7335342034253, -504.5887037085228, -391.325079975732, -305.7514865641799, -250.7866744952168, -228.37144348809156, -239.41044555326997, -283.74537431481207, -360.1602908197273, -466.4188635758421, -599.3323366961074, -754.8561144471649, -928.2119912818472, -1114.032289339038, -1306.5215135031663, -1499.6306168903134, -1687.2386022632913, -1863.3359782502098, -2022.204549062573, -2158.588143322786, -2267.849177522016, -2346.106392933013, -2390.3496878408387, -2398.528671415935, -2369.612369748528, -2303.6183937272035, -2201.6108056471176, -2065.666868281908, -1898.8137979070204, -1704.9375428517799, -1488.6664444523662, -1255.2333824112034, -1010.3206395403879, -759.8922224138514, -510.01873013156836, -266.70006285221194, -35.691299320395416, 177.6630516831105, 368.58150346666287, 532.9802550909612, 667.5861398642724, 770.0246139085788, 838.8803173422618, 873.728588949946, 875.1372082437131, 844.6385489248131, 784.6732268487355, 698.507185951543, 590.1249611627236, 464.1025635098881, 325.4640282879807, 179.5261343806799, 31.736127665248194, -112.49254536304697, -247.94147073051644, -369.7405829915833, -473.50897028955586, -555.4790057963745, -612.6002008839653, -642.6198421608046, -644.1382286320844, -616.6371423112724, -560.4810399126227, -476.8913171839249, -367.89484394552125, -236.24876994433475, -85.34433386172832, 80.90695254986352, 258.20084683296096, 441.977348946977, 627.5625540569594, 810.3107278019613, 985.7419933323142, 1149.671216436239, 1298.3240159845734, 1428.436300155284, 1537.3343191359695, 1622.9929124482105, 1684.070391309233, 1719.9193083691398, 1730.5732019468733, 1716.7102319866758, 1679.595422819076, 1621.0039668095906, 1543.128698318695, 1448.4753969369904, 1339.7500036490121, 1219.7421187131656, 1091.2092850151855, 956.7665397902879, 818.785540599409, 679.3072424199129, 539.9716315562995, 401.96742301312776, 266.0039194382393, 132.30643447442182, 0.6358267027691824, -129.66819977683906, -259.62126629143194, -390.50806868823906, -523.778624377103, -660.9306668218371, -803.3824574436985, -952.3407730498403, -1108.6691641933564, -1272.7617515045881, -1444.4278240071635, -1622.7923215941871, -1806.2169249939516, -1992.2459481502246, -2177.580542713296, -2358.083900629197, -2528.819201393428, -2684.1210224259476, -2817.6998446379444, -2922.7781733572047, -2992.255691833848, -3018.8998052106454, -2995.5569515481143, -2915.3791857647293, -2772.0598121579364, -2560.0712778913276, -2274.8981653353903, -1913.2579520113038, -1473.302254073808, -954.7915371497974, -359.2367651911844, 309.99784495801674, 1047.635902986448, 1846.4776315280058, 2697.4390181235904, 3589.64266087682, 4510.560225318199, 5446.204977690407, 6381.3714071488175, 7299.91753744597, 8185.084199550183, 9019.844329538992, 9787.274308813125, 10470.93850917117, 11055.277572185385, 11525.99056346924, 11870.40101404165, 12077.797002316229, 12139.73584307688, 12050.304628396063, 11806.328796317724, 11407.522065812556, 10856.572443400833, 10159.16054439746, 9323.908141151585, 8362.25660868508, 7288.276738590869, 6118.413186833092, 4871.168561504166, 3566.733794806304, 2226.5729337985863, 872.9717845697728, -471.4390831437219, -1784.175651414939, -3043.3942420772446, -4228.375704900479, -5319.98802029495, -6301.115732006892, -7157.045332318244, -7875.7967204631595, -8448.392120694718, -8869.055348358876, -9135.336013396594, -9248.15510685777, -9211.770380118644, -9033.66194690681, -8724.340562171536, -8297.083005735614, -7767.600870065822, -7153.650770277433, -6474.59551447895, -5750.927052483849, -5003.763025886187, -4254.3294448266815, -3523.4423965071614, -2831.001736798089, -2195.5094265100956, -1633.624554991965, -1159.7661611563856, -785.7737396921113, -520.6338401985604, -370.2794676061379, -337.4671185995438, -421.73429006699354, -619.4382246561426, -923.87457017324, -1325.4725789896413, -1812.0615151510035, -2369.2011220481036, -2980.5673803790974, -3628.383397280659, -4293.88414896108, -4957.802980505746, -5600.867267836532, -6204.290481066869, -6750.248058261225, -7222.324998554444, -7605.92389885581, -7888.623265626612, -8060.477302009101, -8114.249962624117, -8045.5778401545585, -7853.0583510139895, -7538.26167018897, -7105.666874228263, -6562.524732361911, -5918.651485703022, -5186.159723372057, -4379.134055125241, -3513.2606516538713, -2605.420840587434, -1673.2597805938688, -734.7417674824811, 192.29605678754393, 1090.5799218461013, 1943.8143157033871, 2737.0649933176614, 3457.1005458728264, 4092.684202114925, 4634.808975657576, 5076.870883435702, 5414.776694648557, 5646.9844780197345, 5774.477047366114, 5800.670211248918, 5731.2594622521565, 5574.0103486490725, 5338.499213072744, 5035.812221491709, 4678.211609474091, 4278.778816616506, 3851.0446467229676, 3408.6167712458546, 2964.8147855552697, 2532.3226382397543, 2122.8675975490373, 1746.934018176471, 1413.5190541187728, 1129.9361637916481, 901.6708108592138, 732.2912208364536, 623.4154544772302, 574.7344500686477, 584.0891138993472, 647.5980451816921, 759.831110106575, 914.0228667177582, 1102.318820204983, 1316.0466836318521, 1546.0042518451871, 1782.7551792865238, 2016.9238912292653, 2239.481050538233, 2442.0114393563554, 2616.956781004336, 2757.826899185894, 2859.3736612901203, 2917.72334691391, 2930.464385205819, 2896.6887753767182, 2816.9869030807663, 2693.396849838615, 2529.31062296046, 2329.340971235026, 2099.1535618137077, 1845.270245370026, 1574.849903758113, 1295.453936926233, 1014.8037897907067, 740.5380379785821, 479.9764430001214, 239.89805913748825, 26.339938177840203, -155.57774672669302], \"yaxis\": \"y2\"}],                        {\"height\": 400, \"showlegend\": false, \"template\": {\"data\": {\"bar\": [{\"error_x\": {\"color\": \"#2a3f5f\"}, \"error_y\": {\"color\": \"#2a3f5f\"}, \"marker\": {\"line\": {\"color\": \"#E5ECF6\", \"width\": 0.5}}, \"type\": \"bar\"}], \"barpolar\": [{\"marker\": {\"line\": {\"color\": \"#E5ECF6\", \"width\": 0.5}}, \"type\": \"barpolar\"}], \"carpet\": [{\"aaxis\": {\"endlinecolor\": \"#2a3f5f\", \"gridcolor\": \"white\", \"linecolor\": \"white\", \"minorgridcolor\": \"white\", \"startlinecolor\": \"#2a3f5f\"}, \"baxis\": {\"endlinecolor\": \"#2a3f5f\", \"gridcolor\": \"white\", \"linecolor\": \"white\", \"minorgridcolor\": \"white\", \"startlinecolor\": \"#2a3f5f\"}, \"type\": \"carpet\"}], \"choropleth\": [{\"colorbar\": {\"outlinewidth\": 0, \"ticks\": \"\"}, \"type\": \"choropleth\"}], \"contour\": [{\"colorbar\": {\"outlinewidth\": 0, \"ticks\": \"\"}, \"colorscale\": [[0.0, \"#0d0887\"], [0.1111111111111111, \"#46039f\"], [0.2222222222222222, \"#7201a8\"], [0.3333333333333333, \"#9c179e\"], [0.4444444444444444, \"#bd3786\"], [0.5555555555555556, \"#d8576b\"], [0.6666666666666666, \"#ed7953\"], [0.7777777777777778, \"#fb9f3a\"], [0.8888888888888888, \"#fdca26\"], [1.0, \"#f0f921\"]], \"type\": \"contour\"}], \"contourcarpet\": [{\"colorbar\": {\"outlinewidth\": 0, \"ticks\": \"\"}, \"type\": \"contourcarpet\"}], \"heatmap\": [{\"colorbar\": {\"outlinewidth\": 0, \"ticks\": \"\"}, \"colorscale\": [[0.0, \"#0d0887\"], [0.1111111111111111, \"#46039f\"], [0.2222222222222222, \"#7201a8\"], [0.3333333333333333, \"#9c179e\"], [0.4444444444444444, \"#bd3786\"], [0.5555555555555556, \"#d8576b\"], [0.6666666666666666, \"#ed7953\"], [0.7777777777777778, \"#fb9f3a\"], [0.8888888888888888, \"#fdca26\"], [1.0, \"#f0f921\"]], \"type\": \"heatmap\"}], \"heatmapgl\": [{\"colorbar\": {\"outlinewidth\": 0, \"ticks\": \"\"}, \"colorscale\": [[0.0, \"#0d0887\"], [0.1111111111111111, \"#46039f\"], [0.2222222222222222, \"#7201a8\"], [0.3333333333333333, \"#9c179e\"], [0.4444444444444444, \"#bd3786\"], [0.5555555555555556, \"#d8576b\"], [0.6666666666666666, \"#ed7953\"], [0.7777777777777778, \"#fb9f3a\"], [0.8888888888888888, \"#fdca26\"], [1.0, \"#f0f921\"]], \"type\": \"heatmapgl\"}], \"histogram\": [{\"marker\": {\"colorbar\": {\"outlinewidth\": 0, \"ticks\": \"\"}}, \"type\": \"histogram\"}], \"histogram2d\": [{\"colorbar\": {\"outlinewidth\": 0, \"ticks\": \"\"}, \"colorscale\": [[0.0, \"#0d0887\"], [0.1111111111111111, \"#46039f\"], [0.2222222222222222, \"#7201a8\"], [0.3333333333333333, \"#9c179e\"], [0.4444444444444444, \"#bd3786\"], [0.5555555555555556, \"#d8576b\"], [0.6666666666666666, \"#ed7953\"], [0.7777777777777778, \"#fb9f3a\"], [0.8888888888888888, \"#fdca26\"], [1.0, \"#f0f921\"]], \"type\": \"histogram2d\"}], \"histogram2dcontour\": [{\"colorbar\": {\"outlinewidth\": 0, \"ticks\": \"\"}, \"colorscale\": [[0.0, \"#0d0887\"], [0.1111111111111111, \"#46039f\"], [0.2222222222222222, \"#7201a8\"], [0.3333333333333333, \"#9c179e\"], [0.4444444444444444, \"#bd3786\"], [0.5555555555555556, \"#d8576b\"], [0.6666666666666666, \"#ed7953\"], [0.7777777777777778, \"#fb9f3a\"], [0.8888888888888888, \"#fdca26\"], [1.0, \"#f0f921\"]], \"type\": \"histogram2dcontour\"}], \"mesh3d\": [{\"colorbar\": {\"outlinewidth\": 0, \"ticks\": \"\"}, \"type\": \"mesh3d\"}], \"parcoords\": [{\"line\": {\"colorbar\": {\"outlinewidth\": 0, \"ticks\": \"\"}}, \"type\": \"parcoords\"}], \"pie\": [{\"automargin\": true, \"type\": \"pie\"}], \"scatter\": [{\"marker\": {\"colorbar\": {\"outlinewidth\": 0, \"ticks\": \"\"}}, \"type\": \"scatter\"}], \"scatter3d\": [{\"line\": {\"colorbar\": {\"outlinewidth\": 0, \"ticks\": \"\"}}, \"marker\": {\"colorbar\": {\"outlinewidth\": 0, \"ticks\": \"\"}}, \"type\": \"scatter3d\"}], \"scattercarpet\": [{\"marker\": {\"colorbar\": {\"outlinewidth\": 0, \"ticks\": \"\"}}, \"type\": \"scattercarpet\"}], \"scattergeo\": [{\"marker\": {\"colorbar\": {\"outlinewidth\": 0, \"ticks\": \"\"}}, \"type\": \"scattergeo\"}], \"scattergl\": [{\"marker\": {\"colorbar\": {\"outlinewidth\": 0, \"ticks\": \"\"}}, \"type\": \"scattergl\"}], \"scattermapbox\": [{\"marker\": {\"colorbar\": {\"outlinewidth\": 0, \"ticks\": \"\"}}, \"type\": \"scattermapbox\"}], \"scatterpolar\": [{\"marker\": {\"colorbar\": {\"outlinewidth\": 0, \"ticks\": \"\"}}, \"type\": \"scatterpolar\"}], \"scatterpolargl\": [{\"marker\": {\"colorbar\": {\"outlinewidth\": 0, \"ticks\": \"\"}}, \"type\": \"scatterpolargl\"}], \"scatterternary\": [{\"marker\": {\"colorbar\": {\"outlinewidth\": 0, \"ticks\": \"\"}}, \"type\": \"scatterternary\"}], \"surface\": [{\"colorbar\": {\"outlinewidth\": 0, \"ticks\": \"\"}, \"colorscale\": [[0.0, \"#0d0887\"], [0.1111111111111111, \"#46039f\"], [0.2222222222222222, \"#7201a8\"], [0.3333333333333333, \"#9c179e\"], [0.4444444444444444, \"#bd3786\"], [0.5555555555555556, \"#d8576b\"], [0.6666666666666666, \"#ed7953\"], [0.7777777777777778, \"#fb9f3a\"], [0.8888888888888888, \"#fdca26\"], [1.0, \"#f0f921\"]], \"type\": \"surface\"}], \"table\": [{\"cells\": {\"fill\": {\"color\": \"#EBF0F8\"}, \"line\": {\"color\": \"white\"}}, \"header\": {\"fill\": {\"color\": \"#C8D4E3\"}, \"line\": {\"color\": \"white\"}}, \"type\": \"table\"}]}, \"layout\": {\"annotationdefaults\": {\"arrowcolor\": \"#2a3f5f\", \"arrowhead\": 0, \"arrowwidth\": 1}, \"autotypenumbers\": \"strict\", \"coloraxis\": {\"colorbar\": {\"outlinewidth\": 0, \"ticks\": \"\"}}, \"colorscale\": {\"diverging\": [[0, \"#8e0152\"], [0.1, \"#c51b7d\"], [0.2, \"#de77ae\"], [0.3, \"#f1b6da\"], [0.4, \"#fde0ef\"], [0.5, \"#f7f7f7\"], [0.6, \"#e6f5d0\"], [0.7, \"#b8e186\"], [0.8, \"#7fbc41\"], [0.9, \"#4d9221\"], [1, \"#276419\"]], \"sequential\": [[0.0, \"#0d0887\"], [0.1111111111111111, \"#46039f\"], [0.2222222222222222, \"#7201a8\"], [0.3333333333333333, \"#9c179e\"], [0.4444444444444444, \"#bd3786\"], [0.5555555555555556, \"#d8576b\"], [0.6666666666666666, \"#ed7953\"], [0.7777777777777778, \"#fb9f3a\"], [0.8888888888888888, \"#fdca26\"], [1.0, \"#f0f921\"]], \"sequentialminus\": [[0.0, \"#0d0887\"], [0.1111111111111111, \"#46039f\"], [0.2222222222222222, \"#7201a8\"], [0.3333333333333333, \"#9c179e\"], [0.4444444444444444, \"#bd3786\"], [0.5555555555555556, \"#d8576b\"], [0.6666666666666666, \"#ed7953\"], [0.7777777777777778, \"#fb9f3a\"], [0.8888888888888888, \"#fdca26\"], [1.0, \"#f0f921\"]]}, \"colorway\": [\"#636efa\", \"#EF553B\", \"#00cc96\", \"#ab63fa\", \"#FFA15A\", \"#19d3f3\", \"#FF6692\", \"#B6E880\", \"#FF97FF\", \"#FECB52\"], \"font\": {\"color\": \"#2a3f5f\"}, \"geo\": {\"bgcolor\": \"white\", \"lakecolor\": \"white\", \"landcolor\": \"#E5ECF6\", \"showlakes\": true, \"showland\": true, \"subunitcolor\": \"white\"}, \"hoverlabel\": {\"align\": \"left\"}, \"hovermode\": \"closest\", \"mapbox\": {\"style\": \"light\"}, \"paper_bgcolor\": \"white\", \"plot_bgcolor\": \"#E5ECF6\", \"polar\": {\"angularaxis\": {\"gridcolor\": \"white\", \"linecolor\": \"white\", \"ticks\": \"\"}, \"bgcolor\": \"#E5ECF6\", \"radialaxis\": {\"gridcolor\": \"white\", \"linecolor\": \"white\", \"ticks\": \"\"}}, \"scene\": {\"xaxis\": {\"backgroundcolor\": \"#E5ECF6\", \"gridcolor\": \"white\", \"gridwidth\": 2, \"linecolor\": \"white\", \"showbackground\": true, \"ticks\": \"\", \"zerolinecolor\": \"white\"}, \"yaxis\": {\"backgroundcolor\": \"#E5ECF6\", \"gridcolor\": \"white\", \"gridwidth\": 2, \"linecolor\": \"white\", \"showbackground\": true, \"ticks\": \"\", \"zerolinecolor\": \"white\"}, \"zaxis\": {\"backgroundcolor\": \"#E5ECF6\", \"gridcolor\": \"white\", \"gridwidth\": 2, \"linecolor\": \"white\", \"showbackground\": true, \"ticks\": \"\", \"zerolinecolor\": \"white\"}}, \"shapedefaults\": {\"line\": {\"color\": \"#2a3f5f\"}}, \"ternary\": {\"aaxis\": {\"gridcolor\": \"white\", \"linecolor\": \"white\", \"ticks\": \"\"}, \"baxis\": {\"gridcolor\": \"white\", \"linecolor\": \"white\", \"ticks\": \"\"}, \"bgcolor\": \"#E5ECF6\", \"caxis\": {\"gridcolor\": \"white\", \"linecolor\": \"white\", \"ticks\": \"\"}}, \"title\": {\"x\": 0.05}, \"xaxis\": {\"automargin\": true, \"gridcolor\": \"white\", \"linecolor\": \"white\", \"ticks\": \"\", \"title\": {\"standoff\": 15}, \"zerolinecolor\": \"white\", \"zerolinewidth\": 2}, \"yaxis\": {\"automargin\": true, \"gridcolor\": \"white\", \"linecolor\": \"white\", \"ticks\": \"\", \"title\": {\"standoff\": 15}, \"zerolinecolor\": \"white\", \"zerolinewidth\": 2}}}, \"width\": 900, \"xaxis\": {\"anchor\": \"y\", \"domain\": [0.0, 1.0], \"range\": [\"2014-10-03T06:00:00\", \"2020-02-28T18:00:00\"], \"type\": \"date\"}, \"xaxis2\": {\"anchor\": \"y2\", \"domain\": [0.0, 1.0], \"range\": [\"2016-12-13T18:54:02.958904115\", \"2018-01-18T11:04:57.863013581\"], \"tickformat\": \"%B %e\", \"type\": \"date\"}, \"yaxis\": {\"anchor\": \"x\", \"domain\": [0.575, 1.0], \"rangemode\": \"normal\", \"title\": {\"text\": \"trend\"}, \"zerolinecolor\": \"#AAA\"}, \"yaxis2\": {\"anchor\": \"x2\", \"domain\": [0.0, 0.425], \"title\": {\"text\": \"yearly\"}, \"zerolinecolor\": \"#AAA\"}},                        {\"responsive\": true}                    ).then(function(){\n",
       "                            \n",
       "var gd = document.getElementById('c568952c-54db-4658-830a-1db1ef91cd2e');\n",
       "var x = new MutationObserver(function (mutations, observer) {{\n",
       "        var display = window.getComputedStyle(gd).display;\n",
       "        if (!display || display === 'none') {{\n",
       "            console.log([gd, 'removed!']);\n",
       "            Plotly.purge(gd);\n",
       "            observer.disconnect();\n",
       "        }}\n",
       "}});\n",
       "\n",
       "// Listen for the removal of the full notebook cells\n",
       "var notebookContainer = gd.closest('#notebook-container');\n",
       "if (notebookContainer) {{\n",
       "    x.observe(notebookContainer, {childList: true});\n",
       "}}\n",
       "\n",
       "// Listen for the clearing of the current output cell\n",
       "var outputEl = gd.closest('.output');\n",
       "if (outputEl) {{\n",
       "    x.observe(outputEl, {childList: true});\n",
       "}}\n",
       "\n",
       "                        })                };                });            </script>        </div>"
      ]
     },
     "metadata": {},
     "output_type": "display_data"
    }
   ],
   "source": [
    "plot_components_plotly(m, forecast)"
   ]
  },
  {
   "cell_type": "code",
   "execution_count": null,
   "metadata": {},
   "outputs": [],
   "source": []
  }
 ],
 "metadata": {
  "kernelspec": {
   "display_name": "Python 3",
   "language": "python",
   "name": "python3"
  },
  "language_info": {
   "codemirror_mode": {
    "name": "ipython",
    "version": 3
   },
   "file_extension": ".py",
   "mimetype": "text/x-python",
   "name": "python",
   "nbconvert_exporter": "python",
   "pygments_lexer": "ipython3",
   "version": "3.8.3"
  }
 },
 "nbformat": 4,
 "nbformat_minor": 1
}
